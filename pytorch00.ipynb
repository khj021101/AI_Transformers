{
  "nbformat": 4,
  "nbformat_minor": 0,
  "metadata": {
    "colab": {
      "provenance": [],
      "gpuType": "T4",
      "authorship_tag": "ABX9TyOvla9dPo97v1QsXiokQIqW",
      "include_colab_link": true
    },
    "kernelspec": {
      "name": "python3",
      "display_name": "Python 3"
    },
    "language_info": {
      "name": "python"
    },
    "accelerator": "GPU"
  },
  "cells": [
    {
      "cell_type": "markdown",
      "metadata": {
        "id": "view-in-github",
        "colab_type": "text"
      },
      "source": [
        "<a href=\"https://colab.research.google.com/github/khj021101/AI_Transformers/blob/main/pytorch00.ipynb\" target=\"_parent\"><img src=\"https://colab.research.google.com/assets/colab-badge.svg\" alt=\"Open In Colab\"/></a>"
      ]
    },
    {
      "cell_type": "code",
      "execution_count": null,
      "metadata": {
        "colab": {
          "base_uri": "https://localhost:8080/",
          "height": 35
        },
        "id": "fft0226aG4HN",
        "outputId": "2da8c68c-cdeb-4e51-89cf-197633f4b829"
      },
      "outputs": [
        {
          "output_type": "execute_result",
          "data": {
            "text/plain": [
              "'2.3.0+cu121'"
            ],
            "application/vnd.google.colaboratory.intrinsic+json": {
              "type": "string"
            }
          },
          "metadata": {},
          "execution_count": 2
        }
      ],
      "source": [
        "import torch\n",
        "torch.__version__"
      ]
    },
    {
      "cell_type": "code",
      "source": [
        "x = torch.empty(4,2)\n",
        "print(x)"
      ],
      "metadata": {
        "colab": {
          "base_uri": "https://localhost:8080/"
        },
        "id": "6StKTMCjHGX8",
        "outputId": "7f82b5cb-fdc6-4e78-e0f8-850deb9e08a0"
      },
      "execution_count": null,
      "outputs": [
        {
          "output_type": "stream",
          "name": "stdout",
          "text": [
            "tensor([[3.1777e+30, 6.8306e+22],\n",
            "        [4.7473e+27, 1.7667e+22],\n",
            "        [5.4051e-14, 1.3556e-19],\n",
            "        [1.3563e-19, 2.7685e+20]])\n"
          ]
        }
      ]
    },
    {
      "cell_type": "code",
      "source": [
        "x = torch.rand(4,2)\n",
        "print(x)"
      ],
      "metadata": {
        "colab": {
          "base_uri": "https://localhost:8080/"
        },
        "id": "sY_-AbT2Htj6",
        "outputId": "827b57e4-8ec5-4973-8d47-975a9c6eea4e"
      },
      "execution_count": null,
      "outputs": [
        {
          "output_type": "stream",
          "name": "stdout",
          "text": [
            "tensor([[0.5054, 0.5087],\n",
            "        [0.7462, 0.5136],\n",
            "        [0.7228, 0.5968],\n",
            "        [0.6077, 0.3177]])\n"
          ]
        }
      ]
    },
    {
      "cell_type": "markdown",
      "source": [],
      "metadata": {
        "id": "REX3R8fPHGsA"
      }
    },
    {
      "cell_type": "code",
      "source": [
        "x = torch.zeros(4,2, dtype = torch.long)\n",
        "print(x)"
      ],
      "metadata": {
        "colab": {
          "base_uri": "https://localhost:8080/"
        },
        "id": "Yt5fPFwOH2vR",
        "outputId": "b46f3b6b-a79b-42e0-b1ef-76643a7cbad1"
      },
      "execution_count": null,
      "outputs": [
        {
          "output_type": "stream",
          "name": "stdout",
          "text": [
            "tensor([[0, 0],\n",
            "        [0, 0],\n",
            "        [0, 0],\n",
            "        [0, 0]])\n"
          ]
        }
      ]
    },
    {
      "cell_type": "code",
      "source": [
        "x = torch.tensor([3, 2.3])\n",
        "print(x)"
      ],
      "metadata": {
        "colab": {
          "base_uri": "https://localhost:8080/"
        },
        "id": "-B82XPXhH9v7",
        "outputId": "2b78770b-855b-45b9-f853-a45cfaa23329"
      },
      "execution_count": null,
      "outputs": [
        {
          "output_type": "stream",
          "name": "stdout",
          "text": [
            "tensor([3.0000, 2.3000])\n"
          ]
        }
      ]
    },
    {
      "cell_type": "code",
      "source": [
        "x = x.new_ones(2,4,dtype = torch.double)\n",
        "print(x)"
      ],
      "metadata": {
        "colab": {
          "base_uri": "https://localhost:8080/"
        },
        "id": "3AWWwBqEIH5X",
        "outputId": "9f006ffe-d4a7-4964-c3da-88ce26b13013"
      },
      "execution_count": null,
      "outputs": [
        {
          "output_type": "stream",
          "name": "stdout",
          "text": [
            "tensor([[1., 1., 1., 1.],\n",
            "        [1., 1., 1., 1.]], dtype=torch.float64)\n"
          ]
        }
      ]
    },
    {
      "cell_type": "code",
      "source": [
        "x = torch.randn_like(x, dtype = torch.float)\n",
        "print(x)"
      ],
      "metadata": {
        "colab": {
          "base_uri": "https://localhost:8080/"
        },
        "id": "PkYwORAQIaAm",
        "outputId": "8a1c5398-b357-426e-f4a6-26d9932c76b3"
      },
      "execution_count": null,
      "outputs": [
        {
          "output_type": "stream",
          "name": "stdout",
          "text": [
            "tensor([[-0.2454,  0.1010,  0.7040, -0.8685],\n",
            "        [-0.6081,  1.6263,  0.1415,  0.9416]])\n"
          ]
        }
      ]
    },
    {
      "cell_type": "code",
      "source": [
        "print(x.size())"
      ],
      "metadata": {
        "colab": {
          "base_uri": "https://localhost:8080/"
        },
        "id": "dYrPAEnOIqFK",
        "outputId": "673b43ce-f844-420c-9f83-2c18225eb5e3"
      },
      "execution_count": null,
      "outputs": [
        {
          "output_type": "stream",
          "name": "stdout",
          "text": [
            "torch.Size([2, 4])\n"
          ]
        }
      ]
    },
    {
      "cell_type": "code",
      "source": [
        "ft = torch.FloatTensor([1,2,3])\n",
        "print(ft)\n",
        "print(ft.dtype)"
      ],
      "metadata": {
        "colab": {
          "base_uri": "https://localhost:8080/"
        },
        "id": "7TcT8SQ6Ir3j",
        "outputId": "cb6663b8-dfc4-49a3-ebbc-0aa33ddf35ad"
      },
      "execution_count": null,
      "outputs": [
        {
          "output_type": "stream",
          "name": "stdout",
          "text": [
            "tensor([1., 2., 3.])\n",
            "torch.float32\n"
          ]
        }
      ]
    },
    {
      "cell_type": "code",
      "source": [
        "print(ft.short())\n",
        "print(ft.int())\n",
        "print(ft.long())"
      ],
      "metadata": {
        "colab": {
          "base_uri": "https://localhost:8080/"
        },
        "id": "Fke8oSkmI7p4",
        "outputId": "eda71393-2a44-4200-c2d0-476cca76302c"
      },
      "execution_count": null,
      "outputs": [
        {
          "output_type": "stream",
          "name": "stdout",
          "text": [
            "tensor([1, 2, 3], dtype=torch.int16)\n",
            "tensor([1, 2, 3], dtype=torch.int32)\n",
            "tensor([1, 2, 3])\n"
          ]
        }
      ]
    },
    {
      "cell_type": "code",
      "source": [
        "it = torch.IntTensor([1,2,3])\n",
        "print(it)\n",
        "print(it.dtype)"
      ],
      "metadata": {
        "colab": {
          "base_uri": "https://localhost:8080/"
        },
        "id": "FOF34P2nJLE4",
        "outputId": "265c9e6e-4f8c-4fb3-9900-f5306a588d2f"
      },
      "execution_count": null,
      "outputs": [
        {
          "output_type": "stream",
          "name": "stdout",
          "text": [
            "tensor([1, 2, 3], dtype=torch.int32)\n",
            "torch.int32\n"
          ]
        }
      ]
    },
    {
      "cell_type": "code",
      "source": [
        "x = torch.randn(1)\n",
        "print(x)\n",
        "print(x.item())\n",
        "print(x.dtype)"
      ],
      "metadata": {
        "colab": {
          "base_uri": "https://localhost:8080/"
        },
        "id": "LFJvipX9JXN4",
        "outputId": "3444e6fe-cc8d-466a-bb2e-30f3a19e6e31"
      },
      "execution_count": null,
      "outputs": [
        {
          "output_type": "stream",
          "name": "stdout",
          "text": [
            "tensor([1.1371])\n",
            "1.1371461153030396\n",
            "torch.float32\n"
          ]
        }
      ]
    },
    {
      "cell_type": "code",
      "source": [
        "device = torch.device('cuda' if torch.cuda.is_available() else 'cpu')\n",
        "print(device)\n",
        "y = torch.ones_like(x, device = device)\n",
        "print(y)\n",
        "x = x.to(device)\n",
        "print(x)\n",
        "z = x + y\n",
        "print(z)\n",
        "print(z.to('cpu', torch.double))\n"
      ],
      "metadata": {
        "colab": {
          "base_uri": "https://localhost:8080/"
        },
        "id": "ksJPz4HUJ8Uv",
        "outputId": "ca3db038-10e9-40e8-bd5c-18191b56741f"
      },
      "execution_count": null,
      "outputs": [
        {
          "output_type": "stream",
          "name": "stdout",
          "text": [
            "cuda\n",
            "tensor([1.], device='cuda:0')\n",
            "tensor([1.1371], device='cuda:0')\n",
            "tensor([2.1371], device='cuda:0')\n",
            "tensor([2.1371], dtype=torch.float64)\n"
          ]
        }
      ]
    },
    {
      "cell_type": "code",
      "source": [
        "t0 = torch.tensor(0)\n",
        "print(t0.ndim)\n",
        "print(t0.shape)\n",
        "print(t0)\n"
      ],
      "metadata": {
        "colab": {
          "base_uri": "https://localhost:8080/"
        },
        "id": "aMo4NDhcKdbO",
        "outputId": "11c6d53e-e4f8-46ed-d67c-a2d4797b8985"
      },
      "execution_count": null,
      "outputs": [
        {
          "output_type": "stream",
          "name": "stdout",
          "text": [
            "0\n",
            "torch.Size([])\n",
            "tensor(0)\n"
          ]
        }
      ]
    },
    {
      "cell_type": "code",
      "source": [
        "t1 = torch.tensor([1,2,3])\n",
        "print(t1.ndim)\n",
        "print(t1.shape)\n",
        "print(t1)"
      ],
      "metadata": {
        "colab": {
          "base_uri": "https://localhost:8080/"
        },
        "id": "Wd3QpodeLo0x",
        "outputId": "9d5f9cd5-414d-461d-d72e-b03bd9c0a8b2"
      },
      "execution_count": null,
      "outputs": [
        {
          "output_type": "stream",
          "name": "stdout",
          "text": [
            "1\n",
            "torch.Size([3])\n",
            "tensor([1, 2, 3])\n"
          ]
        }
      ]
    },
    {
      "cell_type": "code",
      "source": [
        "t2 = torch.tensor([[1,2,3],[4,5,6]])\n",
        "print(t2.ndim)\n",
        "print(t2.shape)\n",
        "print(t2)"
      ],
      "metadata": {
        "colab": {
          "base_uri": "https://localhost:8080/"
        },
        "id": "sw5YqroCLvHY",
        "outputId": "d7b5d4c8-4a9e-4e72-92bd-fd600600a3d5"
      },
      "execution_count": null,
      "outputs": [
        {
          "output_type": "stream",
          "name": "stdout",
          "text": [
            "2\n",
            "torch.Size([2, 3])\n",
            "tensor([[1, 2, 3],\n",
            "        [4, 5, 6]])\n"
          ]
        }
      ]
    },
    {
      "cell_type": "code",
      "source": [
        "t3 = torch.tensor([[[1,2,3],[4,5,6]],[[7,8,9],[10,11,12]]])\n",
        "print(t3.ndim)\n",
        "print(t3.shape)\n",
        "print(t3)"
      ],
      "metadata": {
        "colab": {
          "base_uri": "https://localhost:8080/"
        },
        "id": "lqvgxy9uL3DP",
        "outputId": "3d083a7c-5bfd-428c-fe48-0460287fb6f2"
      },
      "execution_count": null,
      "outputs": [
        {
          "output_type": "stream",
          "name": "stdout",
          "text": [
            "3\n",
            "torch.Size([2, 2, 3])\n",
            "tensor([[[ 1,  2,  3],\n",
            "         [ 4,  5,  6]],\n",
            "\n",
            "        [[ 7,  8,  9],\n",
            "         [10, 11, 12]]])\n"
          ]
        }
      ]
    },
    {
      "cell_type": "code",
      "source": [
        "import math\n",
        "\n",
        "a = torch.rand(1,2)*2 -1\n",
        "print(a)\n",
        "print(torch.abs(a))\n",
        "print(torch.ceil(a))\n",
        "print(torch.floor(a))\n",
        "print(torch.round(a))\n",
        "print(torch.sqrt(a))\n",
        "print(torch.clamp(a, -0.5, 0.5))"
      ],
      "metadata": {
        "colab": {
          "base_uri": "https://localhost:8080/"
        },
        "id": "hQB3jKC3My1v",
        "outputId": "aa482610-97c5-412a-eed0-7b516215a62a"
      },
      "execution_count": null,
      "outputs": [
        {
          "output_type": "stream",
          "name": "stdout",
          "text": [
            "tensor([[-0.5565, -0.9988]])\n",
            "tensor([[0.5565, 0.9988]])\n",
            "tensor([[-0., -0.]])\n",
            "tensor([[-1., -1.]])\n",
            "tensor([[-1., -1.]])\n",
            "tensor([[nan, nan]])\n",
            "tensor([[-0.5000, -0.5000]])\n"
          ]
        }
      ]
    },
    {
      "cell_type": "code",
      "source": [
        "print(torch.min(a))\n",
        "print(torch.max(a))\n",
        "print(torch.mean(a))\n",
        "print(torch.sum(a))\n",
        "print(torch.std(a))\n",
        "print(torch.prod(a))\n",
        "print(torch.unique(torch.tensor([1, 2, 3, 1, 2,2])))"
      ],
      "metadata": {
        "colab": {
          "base_uri": "https://localhost:8080/"
        },
        "id": "nE2f3ydrNj3n",
        "outputId": "1a78083f-3d1b-4ae2-f383-842bc0d723a0"
      },
      "execution_count": null,
      "outputs": [
        {
          "output_type": "stream",
          "name": "stdout",
          "text": [
            "tensor(-0.9988)\n",
            "tensor(-0.5565)\n",
            "tensor(-0.7776)\n",
            "tensor(-1.5552)\n",
            "tensor(0.3128)\n",
            "tensor(0.5558)\n",
            "tensor([1, 2, 3])\n"
          ]
        }
      ]
    },
    {
      "cell_type": "code",
      "source": [
        "x = torch.rand(2,2)\n",
        "print(x)\n",
        "print(x.max(dim = 0))\n",
        "print(x.max(dim = 1))"
      ],
      "metadata": {
        "colab": {
          "base_uri": "https://localhost:8080/"
        },
        "id": "sO6F9bfeOQTR",
        "outputId": "730e0fb0-317e-4d88-a6f1-0f1e3567ef39"
      },
      "execution_count": null,
      "outputs": [
        {
          "output_type": "stream",
          "name": "stdout",
          "text": [
            "tensor([[0.0470, 0.1171],\n",
            "        [0.6870, 0.5867]])\n",
            "torch.return_types.max(\n",
            "values=tensor([0.6870, 0.5867]),\n",
            "indices=tensor([1, 1]))\n",
            "torch.return_types.max(\n",
            "values=tensor([0.1171, 0.6870]),\n",
            "indices=tensor([1, 0]))\n"
          ]
        }
      ]
    },
    {
      "cell_type": "code",
      "source": [
        "x = torch.rand(2,2)\n",
        "print(x)\n",
        "y = torch.rand(2,2)\n",
        "print(y)\n",
        "print(torch.add(x,y))"
      ],
      "metadata": {
        "colab": {
          "base_uri": "https://localhost:8080/"
        },
        "id": "-xW-FP4EOf-L",
        "outputId": "ee09746e-f830-410c-b833-5a598c1837ae"
      },
      "execution_count": null,
      "outputs": [
        {
          "output_type": "stream",
          "name": "stdout",
          "text": [
            "tensor([[0.5650, 0.4642],\n",
            "        [0.8319, 0.9028]])\n",
            "tensor([[0.3065, 0.5088],\n",
            "        [0.5790, 0.4477]])\n",
            "tensor([[0.8715, 0.9730],\n",
            "        [1.4109, 1.3505]])\n"
          ]
        }
      ]
    },
    {
      "cell_type": "code",
      "source": [
        "result = torch.empty(2,2)\n",
        "torch.add(x,y, out = result)\n",
        "print(result)"
      ],
      "metadata": {
        "colab": {
          "base_uri": "https://localhost:8080/"
        },
        "id": "jFz1bxHzQ8eD",
        "outputId": "c90a956d-cfd2-47bc-85b0-408917fe5154"
      },
      "execution_count": null,
      "outputs": [
        {
          "output_type": "stream",
          "name": "stdout",
          "text": [
            "tensor([[0.8715, 0.9730],\n",
            "        [1.4109, 1.3505]])\n"
          ]
        }
      ]
    },
    {
      "cell_type": "code",
      "source": [
        "print(x)\n",
        "print(y)\n",
        "print(torch.sub(x, y))\n",
        "print(x.sub(y))"
      ],
      "metadata": {
        "id": "VRhIYrwVRQBA",
        "colab": {
          "base_uri": "https://localhost:8080/"
        },
        "outputId": "74dc2a80-e894-4f42-91a4-0d6d355f349e"
      },
      "execution_count": null,
      "outputs": [
        {
          "output_type": "stream",
          "name": "stdout",
          "text": [
            "tensor([[0.5650, 0.4642],\n",
            "        [0.8319, 0.9028]])\n",
            "tensor([[0.3065, 0.5088],\n",
            "        [0.5790, 0.4477]])\n",
            "tensor([[ 0.2584, -0.0445],\n",
            "        [ 0.2529,  0.4551]])\n",
            "tensor([[ 0.2584, -0.0445],\n",
            "        [ 0.2529,  0.4551]])\n"
          ]
        }
      ]
    },
    {
      "cell_type": "code",
      "source": [
        "print(x)\n",
        "print(y)\n",
        "print(torch.mul(x, y))\n",
        "print(x.mul(y))\n"
      ],
      "metadata": {
        "colab": {
          "base_uri": "https://localhost:8080/"
        },
        "id": "x40UahfCOJ40",
        "outputId": "093731e2-f97e-4177-e417-648d72c8ab11"
      },
      "execution_count": null,
      "outputs": [
        {
          "output_type": "stream",
          "name": "stdout",
          "text": [
            "tensor([[0.5650, 0.4642],\n",
            "        [0.8319, 0.9028]])\n",
            "tensor([[0.3065, 0.5088],\n",
            "        [0.5790, 0.4477]])\n",
            "tensor([[0.1732, 0.2362],\n",
            "        [0.4816, 0.4042]])\n",
            "tensor([[0.1732, 0.2362],\n",
            "        [0.4816, 0.4042]])\n"
          ]
        }
      ]
    },
    {
      "cell_type": "code",
      "source": [
        "print(x)\n",
        "print(y)\n",
        "print(torch.matmul(x, y))\n",
        "z = x.matmul(y)\n",
        "print(x.matmul(y))\n",
        "print(torch.svd(z))"
      ],
      "metadata": {
        "colab": {
          "base_uri": "https://localhost:8080/"
        },
        "id": "x_ZZCKmrOTiT",
        "outputId": "29f8964d-17b8-4dbd-bcfd-00d524e6339d"
      },
      "execution_count": null,
      "outputs": [
        {
          "output_type": "stream",
          "name": "stdout",
          "text": [
            "tensor([[0.5650, 0.4642],\n",
            "        [0.8319, 0.9028]])\n",
            "tensor([[0.3065, 0.5088],\n",
            "        [0.5790, 0.4477]])\n",
            "tensor([[0.4420, 0.4953],\n",
            "        [0.7777, 0.8274]])\n",
            "tensor([[0.4420, 0.4953],\n",
            "        [0.7777, 0.8274]])\n",
            "torch.return_types.svd(\n",
            "U=tensor([[-0.5046, -0.8633],\n",
            "        [-0.8633,  0.5046]]),\n",
            "S=tensor([1.3152, 0.0148]),\n",
            "V=tensor([[-0.6801,  0.7332],\n",
            "        [-0.7332, -0.6801]]))\n"
          ]
        }
      ]
    },
    {
      "cell_type": "code",
      "source": [
        "x = torch.tensor([[1, 2], [3, 4]])\n",
        "print(x)\n",
        "print(x[0, 0])\n",
        "print(x[0, 1])\n",
        "print(x[1, 0])\n",
        "print(x[1, 1])"
      ],
      "metadata": {
        "colab": {
          "base_uri": "https://localhost:8080/"
        },
        "id": "zvLe07nHOjBt",
        "outputId": "2d9bc02d-64b7-4471-8a14-b87f8247ee52"
      },
      "execution_count": null,
      "outputs": [
        {
          "output_type": "stream",
          "name": "stdout",
          "text": [
            "tensor([[1, 2],\n",
            "        [3, 4]])\n",
            "tensor(1)\n",
            "tensor(2)\n",
            "tensor(3)\n",
            "tensor(4)\n"
          ]
        }
      ]
    },
    {
      "cell_type": "code",
      "source": [
        "print(x[1, :])"
      ],
      "metadata": {
        "colab": {
          "base_uri": "https://localhost:8080/"
        },
        "id": "XLCxK4tuO_gQ",
        "outputId": "3e4890a0-95c4-40ea-8023-fad4c155258f"
      },
      "execution_count": null,
      "outputs": [
        {
          "output_type": "stream",
          "name": "stdout",
          "text": [
            "tensor([3, 4])\n"
          ]
        }
      ]
    },
    {
      "cell_type": "code",
      "source": [
        "x = torch.randn(4, 5)\n",
        "print(x)"
      ],
      "metadata": {
        "colab": {
          "base_uri": "https://localhost:8080/"
        },
        "id": "W_JESXQPP-Kb",
        "outputId": "04c6abb8-8a79-4519-9da8-c8e9934fcf0f"
      },
      "execution_count": null,
      "outputs": [
        {
          "output_type": "stream",
          "name": "stdout",
          "text": [
            "tensor([[-0.4618,  1.0102, -0.0647,  0.3965, -0.0190],\n",
            "        [-1.0534,  0.5425,  0.7275,  0.7700, -1.4198],\n",
            "        [ 0.2609, -0.8465, -0.1494, -0.8321,  1.6561],\n",
            "        [-0.2714, -0.5636, -0.7397, -0.0410,  0.9185]])\n"
          ]
        }
      ]
    },
    {
      "cell_type": "code",
      "source": [
        "y = x.view(20)\n",
        "print(y)"
      ],
      "metadata": {
        "colab": {
          "base_uri": "https://localhost:8080/"
        },
        "id": "YrkgQPBxQCmv",
        "outputId": "665e206e-cdfc-4e54-c073-652014ad1572"
      },
      "execution_count": null,
      "outputs": [
        {
          "output_type": "stream",
          "name": "stdout",
          "text": [
            "tensor([-0.4618,  1.0102, -0.0647,  0.3965, -0.0190, -1.0534,  0.5425,  0.7275,\n",
            "         0.7700, -1.4198,  0.2609, -0.8465, -0.1494, -0.8321,  1.6561, -0.2714,\n",
            "        -0.5636, -0.7397, -0.0410,  0.9185])\n"
          ]
        }
      ]
    },
    {
      "cell_type": "code",
      "source": [
        "z = x.view(5, -1)"
      ],
      "metadata": {
        "id": "8O4OWYusQG_T"
      },
      "execution_count": null,
      "outputs": []
    },
    {
      "cell_type": "code",
      "source": [
        "print(z)"
      ],
      "metadata": {
        "colab": {
          "base_uri": "https://localhost:8080/"
        },
        "id": "A_sI673tQLQg",
        "outputId": "e57248ec-ebb9-4584-cd59-7dc0f883ed1e"
      },
      "execution_count": null,
      "outputs": [
        {
          "output_type": "stream",
          "name": "stdout",
          "text": [
            "tensor([[-0.4618,  1.0102, -0.0647,  0.3965],\n",
            "        [-0.0190, -1.0534,  0.5425,  0.7275],\n",
            "        [ 0.7700, -1.4198,  0.2609, -0.8465],\n",
            "        [-0.1494, -0.8321,  1.6561, -0.2714],\n",
            "        [-0.5636, -0.7397, -0.0410,  0.9185]])\n"
          ]
        }
      ]
    },
    {
      "cell_type": "code",
      "source": [
        "x = torch.randn(1)\n",
        "print(x)\n",
        "print(x.item())\n",
        "print(x.dtype)"
      ],
      "metadata": {
        "colab": {
          "base_uri": "https://localhost:8080/"
        },
        "id": "kbNVPyCgQMFb",
        "outputId": "a3114d80-6f4e-4403-b3aa-6ce9d6cf0365"
      },
      "execution_count": null,
      "outputs": [
        {
          "output_type": "stream",
          "name": "stdout",
          "text": [
            "tensor([-0.4241])\n",
            "-0.42414265871047974\n",
            "torch.float32\n"
          ]
        }
      ]
    },
    {
      "cell_type": "code",
      "source": [
        "tensor = torch.rand(1, 3, 3)\n",
        "print(tensor)\n",
        "print(tensor.shape)"
      ],
      "metadata": {
        "colab": {
          "base_uri": "https://localhost:8080/"
        },
        "id": "Eaa40ykcQcUk",
        "outputId": "c5c62a17-6f69-4ef8-c432-2c21e0760d35"
      },
      "execution_count": null,
      "outputs": [
        {
          "output_type": "stream",
          "name": "stdout",
          "text": [
            "tensor([[[0.2132, 0.9239, 0.5248],\n",
            "         [0.5784, 0.3631, 0.5675],\n",
            "         [0.0396, 0.4520, 0.7021]]])\n",
            "torch.Size([1, 3, 3])\n"
          ]
        }
      ]
    },
    {
      "cell_type": "code",
      "source": [
        "t = tensor.squeeze()"
      ],
      "metadata": {
        "id": "rdbUeiSyQuK_"
      },
      "execution_count": null,
      "outputs": []
    },
    {
      "cell_type": "code",
      "source": [
        "print(t)"
      ],
      "metadata": {
        "colab": {
          "base_uri": "https://localhost:8080/"
        },
        "id": "EPdf1I4eQ8yd",
        "outputId": "6973ca5b-5225-4537-bf73-cd1943c0e55b"
      },
      "execution_count": null,
      "outputs": [
        {
          "output_type": "stream",
          "name": "stdout",
          "text": [
            "tensor([[0.2132, 0.9239, 0.5248],\n",
            "        [0.5784, 0.3631, 0.5675],\n",
            "        [0.0396, 0.4520, 0.7021]])\n"
          ]
        }
      ]
    },
    {
      "cell_type": "code",
      "source": [
        "t = torch.rand(3,3)\n",
        "print(t)\n",
        "print(t.shape)"
      ],
      "metadata": {
        "colab": {
          "base_uri": "https://localhost:8080/"
        },
        "id": "osyXckw8Q-Jb",
        "outputId": "7e17a19d-07dc-4d03-c24a-200e0c060058"
      },
      "execution_count": null,
      "outputs": [
        {
          "output_type": "stream",
          "name": "stdout",
          "text": [
            "tensor([[0.9461, 0.5463, 0.3602],\n",
            "        [0.9477, 0.5460, 0.7620],\n",
            "        [0.2088, 0.3392, 0.5427]])\n",
            "torch.Size([3, 3])\n"
          ]
        }
      ]
    },
    {
      "cell_type": "code",
      "source": [
        "tensor = t.unsqueeze(dim = 0)\n",
        "print(tensor)\n",
        "print(tensor.shape)"
      ],
      "metadata": {
        "colab": {
          "base_uri": "https://localhost:8080/"
        },
        "id": "w8dotuaYRFik",
        "outputId": "85761eb3-3d0b-465b-94dc-3b340313301c"
      },
      "execution_count": null,
      "outputs": [
        {
          "output_type": "stream",
          "name": "stdout",
          "text": [
            "tensor([[[0.9461, 0.5463, 0.3602],\n",
            "         [0.9477, 0.5460, 0.7620],\n",
            "         [0.2088, 0.3392, 0.5427]]])\n",
            "torch.Size([1, 3, 3])\n"
          ]
        }
      ]
    },
    {
      "cell_type": "code",
      "source": [
        "x = torch.FloatTensor([1, 4])\n",
        "print(x)\n",
        "y = torch.FloatTensor([2, 5])\n",
        "print(y)\n",
        "z = torch.FloatTensor([3, 6])\n",
        "print(z)\n",
        "\n",
        "print(torch.stack([x, y, z]))"
      ],
      "metadata": {
        "colab": {
          "base_uri": "https://localhost:8080/"
        },
        "id": "tR-8YfprRNv-",
        "outputId": "7c5c57f6-f939-406c-e92b-ce4d0b0608c4"
      },
      "execution_count": null,
      "outputs": [
        {
          "output_type": "stream",
          "name": "stdout",
          "text": [
            "tensor([1., 4.])\n",
            "tensor([2., 5.])\n",
            "tensor([3., 6.])\n",
            "tensor([[1., 4.],\n",
            "        [2., 5.],\n",
            "        [3., 6.]])\n"
          ]
        }
      ]
    },
    {
      "cell_type": "code",
      "source": [
        "a = torch.randn(1, 3, 3)\n",
        "print(a)\n",
        "b = torch.randn(1, 3, 3)\n",
        "print(b)\n",
        "c = torch.cat([a, b], dim = 0)\n",
        "print(c)\n",
        "print(c.size())"
      ],
      "metadata": {
        "colab": {
          "base_uri": "https://localhost:8080/"
        },
        "id": "F1oeeo-nRpHJ",
        "outputId": "37fbbcf4-ab9f-400b-cdc3-6e196f51f893"
      },
      "execution_count": null,
      "outputs": [
        {
          "output_type": "stream",
          "name": "stdout",
          "text": [
            "tensor([[[-0.5471,  0.2346, -0.7184],\n",
            "         [ 0.0269,  2.0047,  0.2304],\n",
            "         [-0.3427, -0.6955, -0.0782]]])\n",
            "tensor([[[ 0.6288,  1.2370,  0.8973],\n",
            "         [ 1.6670,  0.9419,  0.3616],\n",
            "         [-0.8109, -1.2905, -0.4562]]])\n",
            "tensor([[[-0.5471,  0.2346, -0.7184],\n",
            "         [ 0.0269,  2.0047,  0.2304],\n",
            "         [-0.3427, -0.6955, -0.0782]],\n",
            "\n",
            "        [[ 0.6288,  1.2370,  0.8973],\n",
            "         [ 1.6670,  0.9419,  0.3616],\n",
            "         [-0.8109, -1.2905, -0.4562]]])\n",
            "torch.Size([2, 3, 3])\n"
          ]
        }
      ]
    },
    {
      "cell_type": "code",
      "source": [
        "c = torch.cat([a, b], dim = 1)\n",
        "print(c)\n",
        "print(c.size())"
      ],
      "metadata": {
        "colab": {
          "base_uri": "https://localhost:8080/"
        },
        "id": "XSXNEi9mR7Cy",
        "outputId": "b55becd9-6765-4b2d-fdd3-3885d56c719e"
      },
      "execution_count": null,
      "outputs": [
        {
          "output_type": "stream",
          "name": "stdout",
          "text": [
            "tensor([[[-0.5471,  0.2346, -0.7184],\n",
            "         [ 0.0269,  2.0047,  0.2304],\n",
            "         [-0.3427, -0.6955, -0.0782],\n",
            "         [ 0.6288,  1.2370,  0.8973],\n",
            "         [ 1.6670,  0.9419,  0.3616],\n",
            "         [-0.8109, -1.2905, -0.4562]]])\n",
            "torch.Size([1, 6, 3])\n"
          ]
        }
      ]
    },
    {
      "cell_type": "code",
      "source": [
        "tensor = torch.rand(3, 6)\n",
        "print(tensor)\n",
        "\n",
        "t1, t2, t3 = torch.chunk(tensor, 3, dim = 1)\n",
        "print(t1)\n",
        "print(t2)\n",
        "print(t3)"
      ],
      "metadata": {
        "colab": {
          "base_uri": "https://localhost:8080/"
        },
        "id": "0C7EuTTRTJGw",
        "outputId": "b2057904-3539-4c0e-a9ca-ee8c6cb6707e"
      },
      "execution_count": null,
      "outputs": [
        {
          "output_type": "stream",
          "name": "stdout",
          "text": [
            "tensor([[0.4925, 0.7637, 0.7349, 0.6370, 0.7369, 0.0550],\n",
            "        [0.8121, 0.7892, 0.9919, 0.9709, 0.6926, 0.8953],\n",
            "        [0.8439, 0.6902, 0.8942, 0.5025, 0.8570, 0.0974]])\n",
            "tensor([[0.4925, 0.7637],\n",
            "        [0.8121, 0.7892],\n",
            "        [0.8439, 0.6902]])\n",
            "tensor([[0.7349, 0.6370],\n",
            "        [0.9919, 0.9709],\n",
            "        [0.8942, 0.5025]])\n",
            "tensor([[0.7369, 0.0550],\n",
            "        [0.6926, 0.8953],\n",
            "        [0.8570, 0.0974]])\n"
          ]
        }
      ]
    },
    {
      "cell_type": "code",
      "source": [
        "tensor = torch.rand(3,6)\n",
        "t1, t2 = torch.split(tensor, 3, dim = 1)\n",
        "print(t1)\n",
        "print(t2)"
      ],
      "metadata": {
        "colab": {
          "base_uri": "https://localhost:8080/"
        },
        "id": "r0XvEIt3Tj4M",
        "outputId": "de4ac311-4f6f-4250-9be1-045fcd864e2d"
      },
      "execution_count": null,
      "outputs": [
        {
          "output_type": "stream",
          "name": "stdout",
          "text": [
            "tensor([[0.0056, 0.6178, 0.9709],\n",
            "        [0.1674, 0.2168, 0.0482],\n",
            "        [0.2817, 0.4141, 0.4349]])\n",
            "tensor([[0.2811, 0.5075, 0.5866],\n",
            "        [0.8694, 0.2920, 0.3895],\n",
            "        [0.7064, 0.3599, 0.5758]])\n"
          ]
        }
      ]
    },
    {
      "cell_type": "code",
      "source": [
        "a = torch.ones(7)\n",
        "print(a)"
      ],
      "metadata": {
        "colab": {
          "base_uri": "https://localhost:8080/"
        },
        "id": "K96LlIDdUOYt",
        "outputId": "b4f3acd8-71fd-40fc-aa80-02f3f5678166"
      },
      "execution_count": null,
      "outputs": [
        {
          "output_type": "stream",
          "name": "stdout",
          "text": [
            "tensor([1., 1., 1., 1., 1., 1., 1.])\n"
          ]
        }
      ]
    },
    {
      "cell_type": "code",
      "source": [
        "b = a.numpy()\n",
        "print(b)"
      ],
      "metadata": {
        "colab": {
          "base_uri": "https://localhost:8080/"
        },
        "id": "OlwwgBtmWdwh",
        "outputId": "c6eabae9-5dec-4942-c836-757c41ef380d"
      },
      "execution_count": null,
      "outputs": [
        {
          "output_type": "stream",
          "name": "stdout",
          "text": [
            "[1. 1. 1. 1. 1. 1. 1.]\n"
          ]
        }
      ]
    },
    {
      "cell_type": "code",
      "source": [
        "a.add_(1)\n",
        "print(a)\n",
        "print(b)"
      ],
      "metadata": {
        "colab": {
          "base_uri": "https://localhost:8080/"
        },
        "id": "Hn2Co-6HWghs",
        "outputId": "e9dbd280-9470-4e09-ac41-37ba25708c79"
      },
      "execution_count": null,
      "outputs": [
        {
          "output_type": "stream",
          "name": "stdout",
          "text": [
            "tensor([2., 2., 2., 2., 2., 2., 2.])\n",
            "[2. 2. 2. 2. 2. 2. 2.]\n"
          ]
        }
      ]
    },
    {
      "cell_type": "code",
      "source": [
        "import numpy as np\n",
        "a = np.ones(7)\n",
        "b = torch.from_numpy(a)\n",
        "np.add(a, 1, out=a)\n",
        "print(b)"
      ],
      "metadata": {
        "colab": {
          "base_uri": "https://localhost:8080/"
        },
        "id": "cXEolHTwWpPv",
        "outputId": "f22b1db2-8343-4b79-e035-a985cdd04ffa"
      },
      "execution_count": null,
      "outputs": [
        {
          "output_type": "stream",
          "name": "stdout",
          "text": [
            "tensor([2., 2., 2., 2., 2., 2., 2.], dtype=torch.float64)\n"
          ]
        }
      ]
    },
    {
      "cell_type": "code",
      "source": [
        "a = torch.randn(3,3)\n",
        "a = a * 3\n",
        "print(a)\n",
        "print(a.requires_grad)"
      ],
      "metadata": {
        "colab": {
          "base_uri": "https://localhost:8080/"
        },
        "id": "bLwkY9X-W6vI",
        "outputId": "afaf69d7-e9fd-4e44-ae91-43e884bf5bd2"
      },
      "execution_count": null,
      "outputs": [
        {
          "output_type": "stream",
          "name": "stdout",
          "text": [
            "tensor([[ 3.6015, -3.6002, -0.9321],\n",
            "        [ 2.3864, -2.5209, -0.4550],\n",
            "        [-0.4935,  2.7180,  0.2626]])\n",
            "False\n"
          ]
        }
      ]
    },
    {
      "cell_type": "code",
      "source": [
        "a.requires_grad_(True)\n",
        "print(a.requires_grad)\n",
        "b = (a * a).sum()\n",
        "print(b)\n",
        "print(b.grad_fn)"
      ],
      "metadata": {
        "colab": {
          "base_uri": "https://localhost:8080/"
        },
        "id": "r2RVouU7obAG",
        "outputId": "f1066ec7-6759-4041-91eb-ac7146c127cf"
      },
      "execution_count": null,
      "outputs": [
        {
          "output_type": "stream",
          "name": "stdout",
          "text": [
            "True\n",
            "tensor(46.7574, grad_fn=<SumBackward0>)\n",
            "<SumBackward0 object at 0x7de915badc90>\n"
          ]
        }
      ]
    },
    {
      "cell_type": "code",
      "source": [
        "x  = torch.ones(3,3, requires_grad = True)\n",
        "print(x)\n"
      ],
      "metadata": {
        "colab": {
          "base_uri": "https://localhost:8080/"
        },
        "id": "EiXPmIdlqEYC",
        "outputId": "88f5c3cb-0ee5-4043-e145-cc126acd8be1"
      },
      "execution_count": null,
      "outputs": [
        {
          "output_type": "stream",
          "name": "stdout",
          "text": [
            "tensor([[1., 1., 1.],\n",
            "        [1., 1., 1.],\n",
            "        [1., 1., 1.]], requires_grad=True)\n"
          ]
        }
      ]
    },
    {
      "cell_type": "code",
      "source": [
        "y = x + 5\n",
        "print(y)"
      ],
      "metadata": {
        "colab": {
          "base_uri": "https://localhost:8080/"
        },
        "id": "bC7W6LperGvQ",
        "outputId": "0a70ab0b-0463-478e-cc36-baaea8ff28ec"
      },
      "execution_count": null,
      "outputs": [
        {
          "output_type": "stream",
          "name": "stdout",
          "text": [
            "tensor([[6., 6., 6.],\n",
            "        [6., 6., 6.],\n",
            "        [6., 6., 6.]], grad_fn=<AddBackward0>)\n"
          ]
        }
      ]
    },
    {
      "cell_type": "code",
      "source": [
        "z = y*y\n",
        "out = z.mean()\n",
        "print(z, out)"
      ],
      "metadata": {
        "colab": {
          "base_uri": "https://localhost:8080/"
        },
        "id": "mYNjsiiWrKtm",
        "outputId": "51339d1d-9a65-4280-b705-8fe488930a0a"
      },
      "execution_count": null,
      "outputs": [
        {
          "output_type": "stream",
          "name": "stdout",
          "text": [
            "tensor([[36., 36., 36.],\n",
            "        [36., 36., 36.],\n",
            "        [36., 36., 36.]], grad_fn=<MulBackward0>) tensor(36., grad_fn=<MeanBackward0>)\n"
          ]
        }
      ]
    },
    {
      "cell_type": "code",
      "source": [
        "print(out)\n",
        "out.backward()"
      ],
      "metadata": {
        "colab": {
          "base_uri": "https://localhost:8080/"
        },
        "id": "wDp6VHjorNu4",
        "outputId": "c625646b-e1c3-4e1e-d6de-30c79e6cc4ba"
      },
      "execution_count": null,
      "outputs": [
        {
          "output_type": "stream",
          "name": "stdout",
          "text": [
            "tensor(36., grad_fn=<MeanBackward0>)\n"
          ]
        }
      ]
    },
    {
      "cell_type": "code",
      "source": [
        "print(x)\n",
        "print(x.grad)"
      ],
      "metadata": {
        "colab": {
          "base_uri": "https://localhost:8080/"
        },
        "id": "fBlkpTtvraso",
        "outputId": "e1023cc4-3c03-4f6f-f224-1134e3738ab1"
      },
      "execution_count": null,
      "outputs": [
        {
          "output_type": "stream",
          "name": "stdout",
          "text": [
            "tensor([[1., 1., 1.],\n",
            "        [1., 1., 1.],\n",
            "        [1., 1., 1.]], requires_grad=True)\n",
            "tensor([[1.3333, 1.3333, 1.3333],\n",
            "        [1.3333, 1.3333, 1.3333],\n",
            "        [1.3333, 1.3333, 1.3333]])\n"
          ]
        }
      ]
    },
    {
      "cell_type": "code",
      "source": [
        "x = torch.randn(3, requires_grad = True)\n",
        "y = x *2\n",
        "while y.data.norm() < 1000:\n",
        "    y = y * 2\n",
        "print(y)"
      ],
      "metadata": {
        "colab": {
          "base_uri": "https://localhost:8080/"
        },
        "id": "Vg_S2yecriVV",
        "outputId": "9f1228c5-6c3a-43c8-cc71-18d8c01f854a"
      },
      "execution_count": null,
      "outputs": [
        {
          "output_type": "stream",
          "name": "stdout",
          "text": [
            "tensor([  253.4040, -1006.7422,   170.9872], grad_fn=<MulBackward0>)\n"
          ]
        }
      ]
    },
    {
      "cell_type": "code",
      "source": [
        "v = torch.tensor([0.1, 1.0, 0.00001], dtype = torch.float)\n",
        "y.backward(v)\n"
      ],
      "metadata": {
        "id": "w1Dp7V7frvqE"
      },
      "execution_count": null,
      "outputs": []
    },
    {
      "cell_type": "code",
      "source": [
        "print(x.requires_grad)\n",
        "print((x **2).requires_grad)\n",
        "with torch.no_grad():\n",
        "    print((x **2).requires_grad)"
      ],
      "metadata": {
        "colab": {
          "base_uri": "https://localhost:8080/"
        },
        "id": "DiHkhejhQCcV",
        "outputId": "b3640cf6-baf0-4553-e017-e125239390a4"
      },
      "execution_count": null,
      "outputs": [
        {
          "output_type": "stream",
          "name": "stdout",
          "text": [
            "True\n",
            "True\n",
            "False\n"
          ]
        }
      ]
    },
    {
      "cell_type": "code",
      "source": [
        "print(x.requires_grad)\n",
        "y = x.detach()\n",
        "print(y.requires_grad)\n",
        "print(x.eq(y).all())"
      ],
      "metadata": {
        "colab": {
          "base_uri": "https://localhost:8080/"
        },
        "id": "Ne9pMdU15uTz",
        "outputId": "5d432921-c82e-4e70-8f61-a7b15914eefe"
      },
      "execution_count": null,
      "outputs": [
        {
          "output_type": "stream",
          "name": "stdout",
          "text": [
            "True\n",
            "False\n",
            "tensor(True)\n"
          ]
        }
      ]
    },
    {
      "cell_type": "code",
      "source": [
        "a = torch.ones(2,2)\n",
        "print(a)\n"
      ],
      "metadata": {
        "colab": {
          "base_uri": "https://localhost:8080/"
        },
        "id": "UCMuEA3Z6ESg",
        "outputId": "43284516-4097-4aa3-b20a-a151c6f763ff"
      },
      "execution_count": null,
      "outputs": [
        {
          "output_type": "stream",
          "name": "stdout",
          "text": [
            "tensor([[1., 1.],\n",
            "        [1., 1.]])\n"
          ]
        }
      ]
    },
    {
      "cell_type": "code",
      "source": [
        "a = torch.ones(2, 2, requires_grad = True)\n",
        "print(a)"
      ],
      "metadata": {
        "colab": {
          "base_uri": "https://localhost:8080/"
        },
        "id": "NBMhsWp76Xzl",
        "outputId": "6ae2d7a8-1e67-47f8-e5fd-8f2948dd766f"
      },
      "execution_count": null,
      "outputs": [
        {
          "output_type": "stream",
          "name": "stdout",
          "text": [
            "tensor([[1., 1.],\n",
            "        [1., 1.]], requires_grad=True)\n"
          ]
        }
      ]
    },
    {
      "cell_type": "code",
      "source": [
        "print(a.data)\n",
        "print(a.grad)\n",
        "print(a.grad_fn)"
      ],
      "metadata": {
        "colab": {
          "base_uri": "https://localhost:8080/"
        },
        "id": "qaRDl7UJ6cdS",
        "outputId": "0adaf482-711e-45f0-c19f-2304d1d75a8a"
      },
      "execution_count": null,
      "outputs": [
        {
          "output_type": "stream",
          "name": "stdout",
          "text": [
            "tensor([[1., 1.],\n",
            "        [1., 1.]])\n",
            "None\n",
            "None\n"
          ]
        }
      ]
    },
    {
      "cell_type": "code",
      "source": [
        "b = a + 2\n",
        "print(b)"
      ],
      "metadata": {
        "colab": {
          "base_uri": "https://localhost:8080/"
        },
        "id": "1W8_hzUJ6iEc",
        "outputId": "5f331a5a-4d59-454f-e946-77502541e56c"
      },
      "execution_count": null,
      "outputs": [
        {
          "output_type": "stream",
          "name": "stdout",
          "text": [
            "tensor([[3., 3.],\n",
            "        [3., 3.]], grad_fn=<AddBackward0>)\n"
          ]
        }
      ]
    },
    {
      "cell_type": "code",
      "source": [
        "c = b**2\n",
        "print(c)"
      ],
      "metadata": {
        "colab": {
          "base_uri": "https://localhost:8080/"
        },
        "id": "QUumeLhw_VFL",
        "outputId": "86ab1654-95f8-4239-a8b3-e590c6565f03"
      },
      "execution_count": null,
      "outputs": [
        {
          "output_type": "stream",
          "name": "stdout",
          "text": [
            "tensor([[9., 9.],\n",
            "        [9., 9.]], grad_fn=<PowBackward0>)\n"
          ]
        }
      ]
    },
    {
      "cell_type": "code",
      "source": [
        "out = c.sum()\n",
        "print(out)"
      ],
      "metadata": {
        "colab": {
          "base_uri": "https://localhost:8080/"
        },
        "id": "mIJ5W_TKCxSe",
        "outputId": "566dd130-2f47-4b04-9fbe-f3bc76c5f2ee"
      },
      "execution_count": null,
      "outputs": [
        {
          "output_type": "stream",
          "name": "stdout",
          "text": [
            "tensor(36., grad_fn=<SumBackward0>)\n"
          ]
        }
      ]
    },
    {
      "cell_type": "code",
      "source": [
        "print(out)\n",
        "out.backward()"
      ],
      "metadata": {
        "colab": {
          "base_uri": "https://localhost:8080/"
        },
        "id": "EKf87SEIC1Sw",
        "outputId": "5861204f-49bd-4d8d-ff7d-04844d306c7c"
      },
      "execution_count": null,
      "outputs": [
        {
          "output_type": "stream",
          "name": "stdout",
          "text": [
            "tensor(36., grad_fn=<SumBackward0>)\n"
          ]
        }
      ]
    },
    {
      "cell_type": "code",
      "source": [
        "print(a.data)\n",
        "print(a.grad)\n",
        "print(a.grad_fn)"
      ],
      "metadata": {
        "colab": {
          "base_uri": "https://localhost:8080/"
        },
        "id": "CP555_qYDAS9",
        "outputId": "1ae3751f-0231-4fd5-defa-84eb61516796"
      },
      "execution_count": null,
      "outputs": [
        {
          "output_type": "stream",
          "name": "stdout",
          "text": [
            "tensor([[1., 1.],\n",
            "        [1., 1.]])\n",
            "tensor([[6., 6.],\n",
            "        [6., 6.]])\n",
            "None\n"
          ]
        }
      ]
    },
    {
      "cell_type": "code",
      "source": [
        "print(b.data)\n",
        "print(b.grad)\n",
        "print(b.grad_fn)"
      ],
      "metadata": {
        "colab": {
          "base_uri": "https://localhost:8080/"
        },
        "id": "7KTJUA4LDMx3",
        "outputId": "25206c7b-9838-494a-b7d9-7a1d4ab53b2e"
      },
      "execution_count": null,
      "outputs": [
        {
          "output_type": "stream",
          "name": "stdout",
          "text": [
            "tensor([[3., 3.],\n",
            "        [3., 3.]])\n",
            "None\n",
            "<AddBackward0 object at 0x7de8a9ff0190>\n"
          ]
        },
        {
          "output_type": "stream",
          "name": "stderr",
          "text": [
            "<ipython-input-67-7222c1aec66c>:2: UserWarning: The .grad attribute of a Tensor that is not a leaf Tensor is being accessed. Its .grad attribute won't be populated during autograd.backward(). If you indeed want the .grad field to be populated for a non-leaf Tensor, use .retain_grad() on the non-leaf Tensor. If you access the non-leaf Tensor by mistake, make sure you access the leaf Tensor instead. See github.com/pytorch/pytorch/pull/30531 for more informations. (Triggered internally at aten/src/ATen/core/TensorBody.h:489.)\n",
            "  print(b.grad)\n"
          ]
        }
      ]
    },
    {
      "cell_type": "code",
      "source": [
        "print(c.data)\n",
        "print(c.grad)\n",
        "print(c.grad_fn)"
      ],
      "metadata": {
        "colab": {
          "base_uri": "https://localhost:8080/"
        },
        "id": "DOXajU_MDS7K",
        "outputId": "ee095700-5f72-495f-9b5a-98c9d861465f"
      },
      "execution_count": null,
      "outputs": [
        {
          "output_type": "stream",
          "name": "stdout",
          "text": [
            "tensor([[9., 9.],\n",
            "        [9., 9.]])\n",
            "None\n",
            "<PowBackward0 object at 0x7de8a9ff0040>\n"
          ]
        },
        {
          "output_type": "stream",
          "name": "stderr",
          "text": [
            "<ipython-input-68-f6ca42a4f63f>:2: UserWarning: The .grad attribute of a Tensor that is not a leaf Tensor is being accessed. Its .grad attribute won't be populated during autograd.backward(). If you indeed want the .grad field to be populated for a non-leaf Tensor, use .retain_grad() on the non-leaf Tensor. If you access the non-leaf Tensor by mistake, make sure you access the leaf Tensor instead. See github.com/pytorch/pytorch/pull/30531 for more informations. (Triggered internally at aten/src/ATen/core/TensorBody.h:489.)\n",
            "  print(c.grad)\n"
          ]
        }
      ]
    },
    {
      "cell_type": "code",
      "source": [
        "print(out.data)\n",
        "print(out.grad)\n",
        "print(out.grad_fn)"
      ],
      "metadata": {
        "colab": {
          "base_uri": "https://localhost:8080/"
        },
        "id": "ppop_ntsDgrD",
        "outputId": "4208edfa-3f9b-4ef6-d789-8a705a53cf04"
      },
      "execution_count": null,
      "outputs": [
        {
          "output_type": "stream",
          "name": "stdout",
          "text": [
            "tensor(36.)\n",
            "None\n",
            "<SumBackward0 object at 0x7de9800db190>\n"
          ]
        },
        {
          "output_type": "stream",
          "name": "stderr",
          "text": [
            "<ipython-input-69-85e75c577388>:2: UserWarning: The .grad attribute of a Tensor that is not a leaf Tensor is being accessed. Its .grad attribute won't be populated during autograd.backward(). If you indeed want the .grad field to be populated for a non-leaf Tensor, use .retain_grad() on the non-leaf Tensor. If you access the non-leaf Tensor by mistake, make sure you access the leaf Tensor instead. See github.com/pytorch/pytorch/pull/30531 for more informations. (Triggered internally at aten/src/ATen/core/TensorBody.h:489.)\n",
            "  print(out.grad)\n"
          ]
        }
      ]
    },
    {
      "cell_type": "code",
      "source": [
        "from torch.utils.data import Dataset, DataLoader"
      ],
      "metadata": {
        "id": "3DDp_f72DpS1"
      },
      "execution_count": null,
      "outputs": []
    },
    {
      "cell_type": "code",
      "source": [
        " import torchvision.transforms as transforms\n",
        "from torchvision import datasets"
      ],
      "metadata": {
        "id": "WlJ0h972Etgf"
      },
      "execution_count": null,
      "outputs": []
    },
    {
      "cell_type": "code",
      "source": [
        "mnist_transform = transforms.Compose([transforms.ToTensor(), transforms.Normalize((0.5,), (1.0,))])"
      ],
      "metadata": {
        "id": "KmqtJKAKFAzh"
      },
      "execution_count": null,
      "outputs": []
    },
    {
      "cell_type": "code",
      "source": [
        "trainset = datasets.MNIST(root = './data',\n",
        "                          train = True,\n",
        "                          download = True,\n",
        "                          transform = mnist_transform)\n",
        "testset = datasets.MNIST(root = './data',\n",
        "                          train = False,\n",
        "                          download = True,\n",
        "                          transform = mnist_transform)"
      ],
      "metadata": {
        "id": "FO8AZfRGFxbF",
        "colab": {
          "base_uri": "https://localhost:8080/"
        },
        "outputId": "66516d7a-bd73-4e07-88d0-5c1d931b38dd"
      },
      "execution_count": null,
      "outputs": [
        {
          "output_type": "stream",
          "name": "stdout",
          "text": [
            "Downloading http://yann.lecun.com/exdb/mnist/train-images-idx3-ubyte.gz\n",
            "Failed to download (trying next):\n",
            "HTTP Error 403: Forbidden\n",
            "\n",
            "Downloading https://ossci-datasets.s3.amazonaws.com/mnist/train-images-idx3-ubyte.gz\n",
            "Downloading https://ossci-datasets.s3.amazonaws.com/mnist/train-images-idx3-ubyte.gz to ./data/MNIST/raw/train-images-idx3-ubyte.gz\n"
          ]
        },
        {
          "output_type": "stream",
          "name": "stderr",
          "text": [
            "100%|██████████| 9912422/9912422 [00:00<00:00, 16071889.21it/s]\n"
          ]
        },
        {
          "output_type": "stream",
          "name": "stdout",
          "text": [
            "Extracting ./data/MNIST/raw/train-images-idx3-ubyte.gz to ./data/MNIST/raw\n",
            "\n",
            "Downloading http://yann.lecun.com/exdb/mnist/train-labels-idx1-ubyte.gz\n",
            "Failed to download (trying next):\n",
            "HTTP Error 403: Forbidden\n",
            "\n",
            "Downloading https://ossci-datasets.s3.amazonaws.com/mnist/train-labels-idx1-ubyte.gz\n",
            "Downloading https://ossci-datasets.s3.amazonaws.com/mnist/train-labels-idx1-ubyte.gz to ./data/MNIST/raw/train-labels-idx1-ubyte.gz\n"
          ]
        },
        {
          "output_type": "stream",
          "name": "stderr",
          "text": [
            "100%|██████████| 28881/28881 [00:00<00:00, 497087.27it/s]\n"
          ]
        },
        {
          "output_type": "stream",
          "name": "stdout",
          "text": [
            "Extracting ./data/MNIST/raw/train-labels-idx1-ubyte.gz to ./data/MNIST/raw\n",
            "\n",
            "Downloading http://yann.lecun.com/exdb/mnist/t10k-images-idx3-ubyte.gz\n",
            "Failed to download (trying next):\n",
            "HTTP Error 403: Forbidden\n",
            "\n",
            "Downloading https://ossci-datasets.s3.amazonaws.com/mnist/t10k-images-idx3-ubyte.gz\n",
            "Downloading https://ossci-datasets.s3.amazonaws.com/mnist/t10k-images-idx3-ubyte.gz to ./data/MNIST/raw/t10k-images-idx3-ubyte.gz\n"
          ]
        },
        {
          "output_type": "stream",
          "name": "stderr",
          "text": [
            "100%|██████████| 1648877/1648877 [00:00<00:00, 3861710.72it/s]\n"
          ]
        },
        {
          "output_type": "stream",
          "name": "stdout",
          "text": [
            "Extracting ./data/MNIST/raw/t10k-images-idx3-ubyte.gz to ./data/MNIST/raw\n",
            "\n",
            "Downloading http://yann.lecun.com/exdb/mnist/t10k-labels-idx1-ubyte.gz\n",
            "Failed to download (trying next):\n",
            "HTTP Error 403: Forbidden\n",
            "\n",
            "Downloading https://ossci-datasets.s3.amazonaws.com/mnist/t10k-labels-idx1-ubyte.gz\n",
            "Downloading https://ossci-datasets.s3.amazonaws.com/mnist/t10k-labels-idx1-ubyte.gz to ./data/MNIST/raw/t10k-labels-idx1-ubyte.gz\n"
          ]
        },
        {
          "output_type": "stream",
          "name": "stderr",
          "text": [
            "100%|██████████| 4542/4542 [00:00<00:00, 5474289.88it/s]"
          ]
        },
        {
          "output_type": "stream",
          "name": "stdout",
          "text": [
            "Extracting ./data/MNIST/raw/t10k-labels-idx1-ubyte.gz to ./data/MNIST/raw\n",
            "\n"
          ]
        },
        {
          "output_type": "stream",
          "name": "stderr",
          "text": [
            "\n"
          ]
        }
      ]
    },
    {
      "cell_type": "code",
      "source": [
        "train_loader = DataLoader(trainset, batch_size = 8, shuffle = True, num_workers = 2)\n",
        "test_loader = DataLoader(testset, batch_size = 8, shuffle = False, num_workers = 2)"
      ],
      "metadata": {
        "id": "yITeJGXnF_99"
      },
      "execution_count": null,
      "outputs": []
    },
    {
      "cell_type": "code",
      "source": [
        "dataiter = iter(train_loader)\n",
        "images, labels = next(iter(train_loader))\n",
        "images.shape, labels.shape"
      ],
      "metadata": {
        "colab": {
          "base_uri": "https://localhost:8080/"
        },
        "id": "GzTxr9HIGXEN",
        "outputId": "8c28c0c0-966c-4ea8-d848-bcfba4560d55"
      },
      "execution_count": null,
      "outputs": [
        {
          "output_type": "execute_result",
          "data": {
            "text/plain": [
              "(torch.Size([8, 1, 28, 28]), torch.Size([8]))"
            ]
          },
          "metadata": {},
          "execution_count": 75
        }
      ]
    },
    {
      "cell_type": "code",
      "source": [
        "torch_image = torch.squeeze(images[0])\n",
        "torch_image.shape"
      ],
      "metadata": {
        "colab": {
          "base_uri": "https://localhost:8080/"
        },
        "id": "ckjuOoxZG_6L",
        "outputId": "a70a42a7-f574-4cc2-e8d0-a4426737a7f2"
      },
      "execution_count": null,
      "outputs": [
        {
          "output_type": "execute_result",
          "data": {
            "text/plain": [
              "torch.Size([28, 28])"
            ]
          },
          "metadata": {},
          "execution_count": 76
        }
      ]
    },
    {
      "cell_type": "code",
      "source": [
        "import matplotlib.pyplot as plt"
      ],
      "metadata": {
        "id": "yslBOcTTIZN2"
      },
      "execution_count": null,
      "outputs": []
    },
    {
      "cell_type": "code",
      "source": [
        "figure = plt.figure(figsize=(12, 6))\n",
        "cols, rows = 4, 2\n",
        "for i in range(1, cols * rows + 1):\n",
        "    sample_idx = torch.randint(len(trainset), size=(1,)).item()\n",
        "    img, label = trainset[sample_idx]\n",
        "    figure.add_subplot(rows, cols, i)\n",
        "    plt.title(label)\n",
        "    plt.axis(\"off\")\n",
        "    plt.imshow(img.squeeze(), cmap=\"gray\")\n",
        "    print(sample_idx)\n",
        "plt.show"
      ],
      "metadata": {
        "colab": {
          "base_uri": "https://localhost:8080/",
          "height": 830
        },
        "id": "ALO4FINuIdaj",
        "outputId": "0fb3bb79-fc91-4bf5-8b72-aa7d2d585801"
      },
      "execution_count": null,
      "outputs": [
        {
          "output_type": "stream",
          "name": "stdout",
          "text": [
            "2042\n",
            "36084\n",
            "360\n",
            "774\n",
            "20222\n",
            "774\n",
            "35635\n",
            "17083\n"
          ]
        },
        {
          "output_type": "execute_result",
          "data": {
            "text/plain": [
              "<function matplotlib.pyplot.show(close=None, block=None)>"
            ],
            "text/html": [
              "<div style=\"max-width:800px; border: 1px solid var(--colab-border-color);\"><style>\n",
              "      pre.function-repr-contents {\n",
              "        overflow-x: auto;\n",
              "        padding: 8px 12px;\n",
              "        max-height: 500px;\n",
              "      }\n",
              "\n",
              "      pre.function-repr-contents.function-repr-contents-collapsed {\n",
              "        cursor: pointer;\n",
              "        max-height: 100px;\n",
              "      }\n",
              "    </style>\n",
              "    <pre style=\"white-space: initial; background:\n",
              "         var(--colab-secondary-surface-color); padding: 8px 12px;\n",
              "         border-bottom: 1px solid var(--colab-border-color);\"><b>matplotlib.pyplot.show</b><br/>def show(*args, **kwargs)</pre><pre class=\"function-repr-contents function-repr-contents-collapsed\" style=\"\"><a class=\"filepath\" style=\"display:none\" href=\"#\">/usr/local/lib/python3.10/dist-packages/matplotlib/pyplot.py</a>Display all open figures.\n",
              "\n",
              "Parameters\n",
              "----------\n",
              "block : bool, optional\n",
              "    Whether to wait for all figures to be closed before returning.\n",
              "\n",
              "    If `True` block and run the GUI main loop until all figure windows\n",
              "    are closed.\n",
              "\n",
              "    If `False` ensure that all figure windows are displayed and return\n",
              "    immediately.  In this case, you are responsible for ensuring\n",
              "    that the event loop is running to have responsive figures.\n",
              "\n",
              "    Defaults to True in non-interactive mode and to False in interactive\n",
              "    mode (see `.pyplot.isinteractive`).\n",
              "\n",
              "See Also\n",
              "--------\n",
              "ion : Enable interactive mode, which shows / updates the figure after\n",
              "      every plotting command, so that calling ``show()`` is not necessary.\n",
              "ioff : Disable interactive mode.\n",
              "savefig : Save the figure to an image file instead of showing it on screen.\n",
              "\n",
              "Notes\n",
              "-----\n",
              "**Saving figures to file and showing a window at the same time**\n",
              "\n",
              "If you want an image file as well as a user interface window, use\n",
              "`.pyplot.savefig` before `.pyplot.show`. At the end of (a blocking)\n",
              "``show()`` the figure is closed and thus unregistered from pyplot. Calling\n",
              "`.pyplot.savefig` afterwards would save a new and thus empty figure. This\n",
              "limitation of command order does not apply if the show is non-blocking or\n",
              "if you keep a reference to the figure and use `.Figure.savefig`.\n",
              "\n",
              "**Auto-show in jupyter notebooks**\n",
              "\n",
              "The jupyter backends (activated via ``%matplotlib inline``,\n",
              "``%matplotlib notebook``, or ``%matplotlib widget``), call ``show()`` at\n",
              "the end of every cell by default. Thus, you usually don&#x27;t have to call it\n",
              "explicitly there.</pre>\n",
              "      <script>\n",
              "      if (google.colab.kernel.accessAllowed && google.colab.files && google.colab.files.view) {\n",
              "        for (const element of document.querySelectorAll('.filepath')) {\n",
              "          element.style.display = 'block'\n",
              "          element.onclick = (event) => {\n",
              "            event.preventDefault();\n",
              "            event.stopPropagation();\n",
              "            google.colab.files.view(element.textContent, 401);\n",
              "          };\n",
              "        }\n",
              "      }\n",
              "      for (const element of document.querySelectorAll('.function-repr-contents')) {\n",
              "        element.onclick = (event) => {\n",
              "          event.preventDefault();\n",
              "          event.stopPropagation();\n",
              "          element.classList.toggle('function-repr-contents-collapsed');\n",
              "        };\n",
              "      }\n",
              "      </script>\n",
              "      </div>"
            ]
          },
          "metadata": {},
          "execution_count": 78
        },
        {
          "output_type": "display_data",
          "data": {
            "text/plain": [
              "<Figure size 1200x600 with 8 Axes>"
            ],
            "image/png": "[encoded data removed]"
          },
          "metadata": {}
        }
      ]
    },
    {
      "cell_type": "code",
      "source": [
        "import torch.nn as nn"
      ],
      "metadata": {
        "id": "o6Lin_W5Ku7Q"
      },
      "execution_count": null,
      "outputs": []
    },
    {
      "cell_type": "code",
      "source": [
        "input = torch.randn(128, 20)\n",
        "print(input)\n",
        "\n",
        "m = nn.Linear(20, 30)\n",
        "print(m)\n",
        "\n",
        "output = m(input)\n",
        "print(output)\n",
        "print(output.size())"
      ],
      "metadata": {
        "colab": {
          "base_uri": "https://localhost:8080/"
        },
        "id": "yVjgCus8Mhe1",
        "outputId": "529a7da2-4133-413c-a465-97aecebb6ff2"
      },
      "execution_count": null,
      "outputs": [
        {
          "output_type": "stream",
          "name": "stdout",
          "text": [
            "tensor([[ 0.2626, -0.6107,  1.0876,  ..., -0.9800,  0.3342, -0.2368],\n",
            "        [ 1.0379,  0.0549, -0.2647,  ...,  0.6885, -0.5429,  0.3537],\n",
            "        [ 0.7321, -1.5760,  1.4270,  ...,  0.1611, -0.9851, -0.1273],\n",
            "        ...,\n",
            "        [-0.8380,  1.0594, -0.0964,  ...,  0.0492, -0.3552,  0.2752],\n",
            "        [-0.4017,  2.5557,  1.5016,  ...,  0.2822,  1.3475, -1.1328],\n",
            "        [ 0.6019,  1.2773,  1.0378,  ...,  0.1077,  0.0910, -0.9970]])\n",
            "Linear(in_features=20, out_features=30, bias=True)\n",
            "tensor([[ 0.4398, -0.2057,  0.1667,  ..., -0.5266,  0.0398,  0.1649],\n",
            "        [-0.5718,  0.2946,  0.0367,  ..., -0.6237, -0.0647,  0.3794],\n",
            "        [ 0.4201, -0.2377, -0.3027,  ..., -0.6141,  0.1982, -1.4188],\n",
            "        ...,\n",
            "        [-0.3671, -0.0365,  0.1388,  ..., -0.1195,  0.4173,  0.3921],\n",
            "        [ 0.7310,  0.5345,  0.6956,  ..., -0.8686,  0.1064,  0.8136],\n",
            "        [ 0.8039,  0.3558,  1.9093,  ...,  0.2462,  0.0890,  0.0056]],\n",
            "       grad_fn=<AddmmBackward0>)\n",
            "torch.Size([128, 30])\n"
          ]
        }
      ]
    },
    {
      "cell_type": "code",
      "source": [
        "input = torch.randn(20, 16, 50, 100)\n",
        "print(input.size())"
      ],
      "metadata": {
        "colab": {
          "base_uri": "https://localhost:8080/"
        },
        "id": "PSY8MwDOMnt7",
        "outputId": "cba5a808-1d29-4fc8-b66c-86dfe17525c2"
      },
      "execution_count": null,
      "outputs": [
        {
          "output_type": "stream",
          "name": "stdout",
          "text": [
            "torch.Size([20, 16, 50, 100])\n"
          ]
        }
      ]
    },
    {
      "cell_type": "code",
      "source": [
        "m = nn.Conv2d(16, 33, 3, stride=2)\n",
        "m = nn.Conv2d(16, 33, (3, 5), stride = (2, 1), padding = (4, 2))\n",
        "m = nn.Conv2d(16, 33, (3, 5), stride = (2, 1), padding = (4, 2), dilation=(3,1))\n",
        "print(m)\n"
      ],
      "metadata": {
        "colab": {
          "base_uri": "https://localhost:8080/"
        },
        "id": "qyBT6fDvNJOO",
        "outputId": "b20e4f16-7a43-4230-a2c5-6a1ae27176d9"
      },
      "execution_count": null,
      "outputs": [
        {
          "output_type": "stream",
          "name": "stdout",
          "text": [
            "Conv2d(16, 33, kernel_size=(3, 5), stride=(2, 1), padding=(4, 2), dilation=(3, 1))\n"
          ]
        }
      ]
    },
    {
      "cell_type": "code",
      "source": [
        "output = m(input)\n",
        "print(output.size())"
      ],
      "metadata": {
        "colab": {
          "base_uri": "https://localhost:8080/"
        },
        "id": "tblkYbGtNc2Y",
        "outputId": "63614815-6395-4c71-bb2c-ab60695827d5"
      },
      "execution_count": null,
      "outputs": [
        {
          "output_type": "stream",
          "name": "stdout",
          "text": [
            "torch.Size([20, 33, 26, 100])\n"
          ]
        }
      ]
    },
    {
      "cell_type": "code",
      "source": [
        "nn.Conv2d(in_channels = 1, out_channels = 20, kernel_size = 5, stride = 1)"
      ],
      "metadata": {
        "colab": {
          "base_uri": "https://localhost:8080/"
        },
        "id": "o0JaFruHN3RN",
        "outputId": "137103be-777d-47cf-cb1f-0d2604f8a344"
      },
      "execution_count": null,
      "outputs": [
        {
          "output_type": "execute_result",
          "data": {
            "text/plain": [
              "Conv2d(1, 20, kernel_size=(5, 5), stride=(1, 1))"
            ]
          },
          "metadata": {},
          "execution_count": 84
        }
      ]
    },
    {
      "cell_type": "code",
      "source": [
        "layer = nn.Conv2d(1, 20, 5, 1).to(torch.device('cpu'))\n",
        "layer"
      ],
      "metadata": {
        "colab": {
          "base_uri": "https://localhost:8080/"
        },
        "id": "8tf4VW1eOEnO",
        "outputId": "3b56fd77-2455-486f-fa7a-da558338f6d2"
      },
      "execution_count": null,
      "outputs": [
        {
          "output_type": "execute_result",
          "data": {
            "text/plain": [
              "Conv2d(1, 20, kernel_size=(5, 5), stride=(1, 1))"
            ]
          },
          "metadata": {},
          "execution_count": 85
        }
      ]
    },
    {
      "cell_type": "code",
      "source": [
        "weight = layer.weight\n",
        "weight.shape"
      ],
      "metadata": {
        "colab": {
          "base_uri": "https://localhost:8080/"
        },
        "id": "WC3YC9HyORr9",
        "outputId": "d6e3d295-c452-4339-d0c7-7bcddb43bc05"
      },
      "execution_count": null,
      "outputs": [
        {
          "output_type": "execute_result",
          "data": {
            "text/plain": [
              "torch.Size([20, 1, 5, 5])"
            ]
          },
          "metadata": {},
          "execution_count": 86
        }
      ]
    },
    {
      "cell_type": "code",
      "source": [
        "weight = weight.detach()\n",
        "weight = weight.numpy()\n",
        "weight.shape"
      ],
      "metadata": {
        "colab": {
          "base_uri": "https://localhost:8080/"
        },
        "id": "8vjKoFZqOXNP",
        "outputId": "c5fc9d5d-5522-492a-8737-c097d7c1db34"
      },
      "execution_count": null,
      "outputs": [
        {
          "output_type": "execute_result",
          "data": {
            "text/plain": [
              "(20, 1, 5, 5)"
            ]
          },
          "metadata": {},
          "execution_count": 87
        }
      ]
    },
    {
      "cell_type": "code",
      "source": [
        "plt.imshow(weight[0,0, :, :], 'jet')\n",
        "plt.colorbar()\n",
        "plt.show()\n"
      ],
      "metadata": {
        "colab": {
          "base_uri": "https://localhost:8080/",
          "height": 430
        },
        "id": "ntR8a38BO1I7",
        "outputId": "fb901f7a-f4dd-49a9-c7ed-28cfa9a09c69"
      },
      "execution_count": null,
      "outputs": [
        {
          "output_type": "display_data",
          "data": {
            "text/plain": [
              "<Figure size 640x480 with 2 Axes>"
            ],
            "image/png": "[encoded data removed]"
          },
          "metadata": {}
        }
      ]
    },
    {
      "cell_type": "code",
      "source": [
        "print(images.shape)\n",
        "print(images[0].size())\n",
        "input_image = torch.squeeze(images[0])\n",
        "print(input_image.size())"
      ],
      "metadata": {
        "colab": {
          "base_uri": "https://localhost:8080/"
        },
        "id": "9qgGpdknPC0z",
        "outputId": "65c1a05b-e4f0-4207-b960-9e32db933f4a"
      },
      "execution_count": null,
      "outputs": [
        {
          "output_type": "stream",
          "name": "stdout",
          "text": [
            "torch.Size([8, 1, 28, 28])\n",
            "torch.Size([1, 28, 28])\n",
            "torch.Size([28, 28])\n"
          ]
        }
      ]
    },
    {
      "cell_type": "code",
      "source": [
        "input_data = torch.unsqueeze(images[0], dim = 0)\n",
        "print(input_data.size())\n",
        "\n",
        "output_data = layer(input_data)\n",
        "output = output_data.data\n",
        "output_arr = output.numpy()\n",
        "output_arr.shape\n"
      ],
      "metadata": {
        "colab": {
          "base_uri": "https://localhost:8080/"
        },
        "id": "AztsZ1unTWYk",
        "outputId": "a7d03091-bcd9-4b63-ce73-24864dfcf31d"
      },
      "execution_count": null,
      "outputs": [
        {
          "output_type": "stream",
          "name": "stdout",
          "text": [
            "torch.Size([1, 1, 28, 28])\n"
          ]
        },
        {
          "output_type": "execute_result",
          "data": {
            "text/plain": [
              "(1, 20, 24, 24)"
            ]
          },
          "metadata": {},
          "execution_count": 90
        }
      ]
    },
    {
      "cell_type": "code",
      "source": [
        "plt.figure(figsize = (15, 30))\n",
        "plt.subplot(131)\n",
        "plt.title(\"input\")\n",
        "plt.imshow(input_image, 'gray')\n",
        "\n",
        "plt.subplot(132)\n",
        "plt.title(\"weight\")\n",
        "plt.imshow(weight[0,0, :, :], 'jet')\n",
        "\n",
        "plt.subplot(133)\n",
        "plt.title(\"output\")\n",
        "plt.imshow(output_arr[0,0, :, :], 'gray')\n",
        "plt.show()"
      ],
      "metadata": {
        "colab": {
          "base_uri": "https://localhost:8080/",
          "height": 405
        },
        "id": "1ZQKEBh2TtYE",
        "outputId": "967c52e3-d831-44fc-c8c1-82123bcd76e3"
      },
      "execution_count": null,
      "outputs": [
        {
          "output_type": "display_data",
          "data": {
            "text/plain": [
              "<Figure size 1500x3000 with 3 Axes>"
            ],
            "image/png": "[encoded data removed]"
          },
          "metadata": {}
        }
      ]
    },
    {
      "cell_type": "code",
      "source": [
        "import torch.nn.functional as F\n",
        "pool = F.max_pool2d(output, 2, 2)\n",
        "pool.size()"
      ],
      "metadata": {
        "colab": {
          "base_uri": "https://localhost:8080/"
        },
        "id": "vCzUZMsvUGz2",
        "outputId": "c9851cb0-12e5-4c6f-cb74-8d2ac475de67"
      },
      "execution_count": null,
      "outputs": [
        {
          "output_type": "execute_result",
          "data": {
            "text/plain": [
              "torch.Size([1, 20, 12, 12])"
            ]
          },
          "metadata": {},
          "execution_count": 92
        }
      ]
    },
    {
      "cell_type": "code",
      "source": [
        "pool_arr = pool.numpy()\n",
        "pool_arr.shape"
      ],
      "metadata": {
        "colab": {
          "base_uri": "https://localhost:8080/"
        },
        "id": "DOMZVe29V-Bl",
        "outputId": "8390d8e9-bcbc-442b-83fc-c53cdd587b73"
      },
      "execution_count": null,
      "outputs": [
        {
          "output_type": "execute_result",
          "data": {
            "text/plain": [
              "(1, 20, 12, 12)"
            ]
          },
          "metadata": {},
          "execution_count": 93
        }
      ]
    },
    {
      "cell_type": "code",
      "source": [
        "plt.figure(figsize = (10, 15))\n",
        "plt.subplot(121)\n",
        "plt.title(\"input\")\n",
        "plt.imshow(input_image, 'gray')\n",
        "\n",
        "plt.subplot(122)\n",
        "plt.title(\"output\")\n",
        "plt.imshow(pool[0,0, :, :], 'gray')\n"
      ],
      "metadata": {
        "colab": {
          "base_uri": "https://localhost:8080/",
          "height": 453
        },
        "id": "m3nABhH4WJ8n",
        "outputId": "fdcd1e14-7eec-466d-fc4b-b4d3a95f1b03"
      },
      "execution_count": null,
      "outputs": [
        {
          "output_type": "execute_result",
          "data": {
            "text/plain": [
              "<matplotlib.image.AxesImage at 0x7de8a0a91de0>"
            ]
          },
          "metadata": {},
          "execution_count": 94
        },
        {
          "output_type": "display_data",
          "data": {
            "text/plain": [
              "<Figure size 1000x1500 with 2 Axes>"
            ],
            "image/png": "[encoded data removed]"
          },
          "metadata": {}
        }
      ]
    },
    {
      "cell_type": "code",
      "source": [
        "flatten = input_image.view(1, 28*28)\n",
        "flatten.shape"
      ],
      "metadata": {
        "colab": {
          "base_uri": "https://localhost:8080/"
        },
        "id": "rWFHVYrEWgF3",
        "outputId": "cab8e7dc-1776-4b7f-9f02-a49fcf2417a1"
      },
      "execution_count": null,
      "outputs": [
        {
          "output_type": "execute_result",
          "data": {
            "text/plain": [
              "torch.Size([1, 784])"
            ]
          },
          "metadata": {},
          "execution_count": 95
        }
      ]
    },
    {
      "cell_type": "code",
      "source": [
        "lin = nn.Linear(784, 10)(flatten)\n",
        "lin.shape"
      ],
      "metadata": {
        "colab": {
          "base_uri": "https://localhost:8080/"
        },
        "id": "WQFItcYaXUi6",
        "outputId": "a4ebabe5-8258-4c3c-a18c-593e2fb1d9e9"
      },
      "execution_count": null,
      "outputs": [
        {
          "output_type": "execute_result",
          "data": {
            "text/plain": [
              "torch.Size([1, 10])"
            ]
          },
          "metadata": {},
          "execution_count": 96
        }
      ]
    },
    {
      "cell_type": "code",
      "source": [
        "print(lin)"
      ],
      "metadata": {
        "colab": {
          "base_uri": "https://localhost:8080/"
        },
        "id": "LwflqscHXaR8",
        "outputId": "35e9541a-5c7a-4593-de38-f38cca24cef0"
      },
      "execution_count": null,
      "outputs": [
        {
          "output_type": "stream",
          "name": "stdout",
          "text": [
            "tensor([[-0.2271, -0.2573, -0.1434, -0.3214,  0.2139, -0.2070, -0.0063, -0.0453,\n",
            "         -0.1835,  0.0986]], grad_fn=<AddmmBackward0>)\n"
          ]
        }
      ]
    },
    {
      "cell_type": "code",
      "source": [
        "plt.imshow(lin.detach().numpy(), 'jet')\n",
        "plt.colorbar()\n",
        "plt.show()"
      ],
      "metadata": {
        "colab": {
          "base_uri": "https://localhost:8080/",
          "height": 406
        },
        "id": "LS8cJcgxXe6n",
        "outputId": "f1e97d23-7a11-402e-9892-e4437e39f23e"
      },
      "execution_count": null,
      "outputs": [
        {
          "output_type": "display_data",
          "data": {
            "text/plain": [
              "<Figure size 640x480 with 2 Axes>"
            ],
            "image/png": "[encoded data removed]"
          },
          "metadata": {}
        }
      ]
    },
    {
      "cell_type": "code",
      "source": [
        "with torch.no_grad():\n",
        "  flatten = input_image.view(1, 28*28)\n",
        "  lin = nn.Linear(784, 10)(flatten)\n",
        "  softmax = F.softmax(lin, dim = 1)\n",
        "\n",
        "softmax"
      ],
      "metadata": {
        "colab": {
          "base_uri": "https://localhost:8080/"
        },
        "id": "W6xYDb_nYW9p",
        "outputId": "ef2d8bb7-7832-4f7b-f7cc-f59db65b7f84"
      },
      "execution_count": null,
      "outputs": [
        {
          "output_type": "execute_result",
          "data": {
            "text/plain": [
              "tensor([[0.0986, 0.0653, 0.1032, 0.1349, 0.1003, 0.0818, 0.0840, 0.1473, 0.0867,\n",
              "         0.0978]])"
            ]
          },
          "metadata": {},
          "execution_count": 99
        }
      ]
    },
    {
      "cell_type": "code",
      "source": [
        "np.sum(softmax.numpy())"
      ],
      "metadata": {
        "colab": {
          "base_uri": "https://localhost:8080/"
        },
        "id": "4VsTUShVY-4G",
        "outputId": "a7db8d20-4183-42e0-d88f-c0abaec7e731"
      },
      "execution_count": null,
      "outputs": [
        {
          "output_type": "execute_result",
          "data": {
            "text/plain": [
              "0.99999994"
            ]
          },
          "metadata": {},
          "execution_count": 100
        }
      ]
    },
    {
      "cell_type": "code",
      "source": [
        "inputs = torch.randn(4, 3, 28, 28).to(device)\n",
        "inputs.shape"
      ],
      "metadata": {
        "colab": {
          "base_uri": "https://localhost:8080/"
        },
        "id": "vvnRwhG3ZBkd",
        "outputId": "65707332-ab0a-4eb9-8cc2-db79798db181"
      },
      "execution_count": null,
      "outputs": [
        {
          "output_type": "execute_result",
          "data": {
            "text/plain": [
              "torch.Size([4, 3, 28, 28])"
            ]
          },
          "metadata": {},
          "execution_count": 101
        }
      ]
    },
    {
      "cell_type": "code",
      "source": [
        "layer = nn.Conv2d(3, 20, 5, 1).to(device)\n",
        "output = F.relu(layer(inputs))\n",
        "output.shape"
      ],
      "metadata": {
        "colab": {
          "base_uri": "https://localhost:8080/"
        },
        "id": "hPIWdiA1bu3V",
        "outputId": "6a6266f9-b591-451d-f883-7f1ecffb61c3"
      },
      "execution_count": null,
      "outputs": [
        {
          "output_type": "execute_result",
          "data": {
            "text/plain": [
              "torch.Size([4, 20, 24, 24])"
            ]
          },
          "metadata": {},
          "execution_count": 102
        }
      ]
    },
    {
      "cell_type": "code",
      "source": [
        "class Model(nn.Module):\n",
        "  def __init__(self, inputs):\n",
        "    super(Model, self).__init__()\n",
        "    self.layer = nn.Linear(inputs, 1)\n",
        "    self.activation = nn.Sigmoid()\n",
        "  def forward(self, x):\n",
        "    x = self.layer(x)\n",
        "    x = self.activation(x)\n",
        "    return x\n"
      ],
      "metadata": {
        "id": "ovrTYJStb4-N"
      },
      "execution_count": null,
      "outputs": []
    },
    {
      "cell_type": "code",
      "source": [
        "model = Model(1)\n",
        "print(list(model.children()))\n",
        "print(list(model.modules()))"
      ],
      "metadata": {
        "colab": {
          "base_uri": "https://localhost:8080/"
        },
        "id": "BxtdT-bEc6yG",
        "outputId": "5c3b4ab0-18e7-41bf-a6c4-21360f719b72"
      },
      "execution_count": null,
      "outputs": [
        {
          "output_type": "stream",
          "name": "stdout",
          "text": [
            "[Linear(in_features=1, out_features=1, bias=True), Sigmoid()]\n",
            "[Model(\n",
            "  (layer): Linear(in_features=1, out_features=1, bias=True)\n",
            "  (activation): Sigmoid()\n",
            "), Linear(in_features=1, out_features=1, bias=True), Sigmoid()]\n"
          ]
        }
      ]
    },
    {
      "cell_type": "code",
      "source": [
        "class Model(nn.Module):\n",
        "  def __init__(self):\n",
        "    super(Model, self).__init__()\n",
        "    self.layer1 = nn.Sequential(\n",
        "        nn.Conv2d(in_channels = 3, out_channels = 64, kernel_size = 5),\n",
        "        nn.ReLU(inplace = True),\n",
        "        nn.MaxPool2d(2)\n",
        "    )\n",
        "    self.layer2 = nn.Sequential(\n",
        "        nn.Conv2d(in_channels = 64, out_channels = 30, kernel_size = 5),\n",
        "        nn.ReLU(inplace = True),\n",
        "        nn.MaxPool2d(2)\n",
        "    )\n",
        "    self.layer3 = nn.Sequential(\n",
        "        nn.Linear(in_features = 30*5*5, out_features = 10, bias = True),\n",
        "        nn.ReLU(inplace = True),\n",
        "    )\n",
        "\n",
        "  def forward(self, x):\n",
        "      x = self.layer1(x)\n",
        "      x = self.layer2(x)\n",
        "      x = x.view(x.shape[0], -1)\n",
        "      x = self.layer3(x)\n",
        "      return x"
      ],
      "metadata": {
        "id": "xxhMeNuTc_Q1"
      },
      "execution_count": null,
      "outputs": []
    },
    {
      "cell_type": "code",
      "source": [
        "model = Model()\n",
        "print(list(model.children()))\n",
        "print(list(model.modules()))"
      ],
      "metadata": {
        "colab": {
          "base_uri": "https://localhost:8080/"
        },
        "id": "lDTrXqz7nJDp",
        "outputId": "8f5d1f50-47ae-475f-f945-8f8845a13337"
      },
      "execution_count": null,
      "outputs": [
        {
          "output_type": "stream",
          "name": "stdout",
          "text": [
            "[Sequential(\n",
            "  (0): Conv2d(3, 64, kernel_size=(5, 5), stride=(1, 1))\n",
            "  (1): ReLU(inplace=True)\n",
            "  (2): MaxPool2d(kernel_size=2, stride=2, padding=0, dilation=1, ceil_mode=False)\n",
            "), Sequential(\n",
            "  (0): Conv2d(64, 30, kernel_size=(5, 5), stride=(1, 1))\n",
            "  (1): ReLU(inplace=True)\n",
            "  (2): MaxPool2d(kernel_size=2, stride=2, padding=0, dilation=1, ceil_mode=False)\n",
            "), Sequential(\n",
            "  (0): Linear(in_features=750, out_features=10, bias=True)\n",
            "  (1): ReLU(inplace=True)\n",
            ")]\n",
            "[Model(\n",
            "  (layer1): Sequential(\n",
            "    (0): Conv2d(3, 64, kernel_size=(5, 5), stride=(1, 1))\n",
            "    (1): ReLU(inplace=True)\n",
            "    (2): MaxPool2d(kernel_size=2, stride=2, padding=0, dilation=1, ceil_mode=False)\n",
            "  )\n",
            "  (layer2): Sequential(\n",
            "    (0): Conv2d(64, 30, kernel_size=(5, 5), stride=(1, 1))\n",
            "    (1): ReLU(inplace=True)\n",
            "    (2): MaxPool2d(kernel_size=2, stride=2, padding=0, dilation=1, ceil_mode=False)\n",
            "  )\n",
            "  (layer3): Sequential(\n",
            "    (0): Linear(in_features=750, out_features=10, bias=True)\n",
            "    (1): ReLU(inplace=True)\n",
            "  )\n",
            "), Sequential(\n",
            "  (0): Conv2d(3, 64, kernel_size=(5, 5), stride=(1, 1))\n",
            "  (1): ReLU(inplace=True)\n",
            "  (2): MaxPool2d(kernel_size=2, stride=2, padding=0, dilation=1, ceil_mode=False)\n",
            "), Conv2d(3, 64, kernel_size=(5, 5), stride=(1, 1)), ReLU(inplace=True), MaxPool2d(kernel_size=2, stride=2, padding=0, dilation=1, ceil_mode=False), Sequential(\n",
            "  (0): Conv2d(64, 30, kernel_size=(5, 5), stride=(1, 1))\n",
            "  (1): ReLU(inplace=True)\n",
            "  (2): MaxPool2d(kernel_size=2, stride=2, padding=0, dilation=1, ceil_mode=False)\n",
            "), Conv2d(64, 30, kernel_size=(5, 5), stride=(1, 1)), ReLU(inplace=True), MaxPool2d(kernel_size=2, stride=2, padding=0, dilation=1, ceil_mode=False), Sequential(\n",
            "  (0): Linear(in_features=750, out_features=10, bias=True)\n",
            "  (1): ReLU(inplace=True)\n",
            "), Linear(in_features=750, out_features=10, bias=True), ReLU(inplace=True)]\n"
          ]
        }
      ]
    },
    {
      "cell_type": "markdown",
      "source": [
        "https://pytorch.org/vision/stable/models.html"
      ],
      "metadata": {
        "id": "0MnoH701ooOG"
      }
    },
    {
      "cell_type": "code",
      "source": [
        "criterion = nn.MSELoss()\n",
        "Criterion = nn.CrossEntropyLoss()"
      ],
      "metadata": {
        "id": "oHOlz9Bfo4Dy"
      },
      "execution_count": null,
      "outputs": []
    },
    {
      "cell_type": "code",
      "source": [
        "!pip install torchmetrics"
      ],
      "metadata": {
        "colab": {
          "base_uri": "https://localhost:8080/"
        },
        "id": "csS6T5uvpUli",
        "outputId": "95042b11-180d-46de-e538-3db22cf02508"
      },
      "execution_count": null,
      "outputs": [
        {
          "output_type": "stream",
          "name": "stdout",
          "text": [
            "Collecting torchmetrics\n",
            "  Downloading torchmetrics-1.4.0.post0-py3-none-any.whl (868 kB)\n",
            "\u001b[2K     \u001b[90m━━━━━━━━━━━━━━━━━━━━━━━━━━━━━━━━━━━━━━━━\u001b[0m \u001b[32m868.8/868.8 kB\u001b[0m \u001b[31m8.1 MB/s\u001b[0m eta \u001b[36m0:00:00\u001b[0m\n",
            "\u001b[?25hRequirement already satisfied: numpy>1.20.0 in /usr/local/lib/python3.10/dist-packages (from torchmetrics) (1.25.2)\n",
            "Requirement already satisfied: packaging>17.1 in /usr/local/lib/python3.10/dist-packages (from torchmetrics) (24.1)\n",
            "Requirement already satisfied: torch>=1.10.0 in /usr/local/lib/python3.10/dist-packages (from torchmetrics) (2.3.0+cu121)\n",
            "Collecting lightning-utilities>=0.8.0 (from torchmetrics)\n",
            "  Downloading lightning_utilities-0.11.3.post0-py3-none-any.whl (26 kB)\n",
            "Requirement already satisfied: setuptools in /usr/local/lib/python3.10/dist-packages (from lightning-utilities>=0.8.0->torchmetrics) (67.7.2)\n",
            "Requirement already satisfied: typing-extensions in /usr/local/lib/python3.10/dist-packages (from lightning-utilities>=0.8.0->torchmetrics) (4.12.2)\n",
            "Requirement already satisfied: filelock in /usr/local/lib/python3.10/dist-packages (from torch>=1.10.0->torchmetrics) (3.15.4)\n",
            "Requirement already satisfied: sympy in /usr/local/lib/python3.10/dist-packages (from torch>=1.10.0->torchmetrics) (1.13.0)\n",
            "Requirement already satisfied: networkx in /usr/local/lib/python3.10/dist-packages (from torch>=1.10.0->torchmetrics) (3.3)\n",
            "Requirement already satisfied: jinja2 in /usr/local/lib/python3.10/dist-packages (from torch>=1.10.0->torchmetrics) (3.1.4)\n",
            "Requirement already satisfied: fsspec in /usr/local/lib/python3.10/dist-packages (from torch>=1.10.0->torchmetrics) (2023.6.0)\n",
            "Collecting nvidia-cuda-nvrtc-cu12==12.1.105 (from torch>=1.10.0->torchmetrics)\n",
            "  Using cached nvidia_cuda_nvrtc_cu12-12.1.105-py3-none-manylinux1_x86_64.whl (23.7 MB)\n",
            "Collecting nvidia-cuda-runtime-cu12==12.1.105 (from torch>=1.10.0->torchmetrics)\n",
            "  Using cached nvidia_cuda_runtime_cu12-12.1.105-py3-none-manylinux1_x86_64.whl (823 kB)\n",
            "Collecting nvidia-cuda-cupti-cu12==12.1.105 (from torch>=1.10.0->torchmetrics)\n",
            "  Using cached nvidia_cuda_cupti_cu12-12.1.105-py3-none-manylinux1_x86_64.whl (14.1 MB)\n",
            "Collecting nvidia-cudnn-cu12==8.9.2.26 (from torch>=1.10.0->torchmetrics)\n",
            "  Using cached nvidia_cudnn_cu12-8.9.2.26-py3-none-manylinux1_x86_64.whl (731.7 MB)\n",
            "Collecting nvidia-cublas-cu12==12.1.3.1 (from torch>=1.10.0->torchmetrics)\n",
            "  Using cached nvidia_cublas_cu12-12.1.3.1-py3-none-manylinux1_x86_64.whl (410.6 MB)\n",
            "Collecting nvidia-cufft-cu12==11.0.2.54 (from torch>=1.10.0->torchmetrics)\n",
            "  Using cached nvidia_cufft_cu12-11.0.2.54-py3-none-manylinux1_x86_64.whl (121.6 MB)\n",
            "Collecting nvidia-curand-cu12==10.3.2.106 (from torch>=1.10.0->torchmetrics)\n",
            "  Using cached nvidia_curand_cu12-10.3.2.106-py3-none-manylinux1_x86_64.whl (56.5 MB)\n",
            "Collecting nvidia-cusolver-cu12==11.4.5.107 (from torch>=1.10.0->torchmetrics)\n",
            "  Using cached nvidia_cusolver_cu12-11.4.5.107-py3-none-manylinux1_x86_64.whl (124.2 MB)\n",
            "Collecting nvidia-cusparse-cu12==12.1.0.106 (from torch>=1.10.0->torchmetrics)\n",
            "  Using cached nvidia_cusparse_cu12-12.1.0.106-py3-none-manylinux1_x86_64.whl (196.0 MB)\n",
            "Collecting nvidia-nccl-cu12==2.20.5 (from torch>=1.10.0->torchmetrics)\n",
            "  Using cached nvidia_nccl_cu12-2.20.5-py3-none-manylinux2014_x86_64.whl (176.2 MB)\n",
            "Collecting nvidia-nvtx-cu12==12.1.105 (from torch>=1.10.0->torchmetrics)\n",
            "  Using cached nvidia_nvtx_cu12-12.1.105-py3-none-manylinux1_x86_64.whl (99 kB)\n",
            "Requirement already satisfied: triton==2.3.0 in /usr/local/lib/python3.10/dist-packages (from torch>=1.10.0->torchmetrics) (2.3.0)\n",
            "Collecting nvidia-nvjitlink-cu12 (from nvidia-cusolver-cu12==11.4.5.107->torch>=1.10.0->torchmetrics)\n",
            "  Downloading nvidia_nvjitlink_cu12-12.5.82-py3-none-manylinux2014_x86_64.whl (21.3 MB)\n",
            "\u001b[2K     \u001b[90m━━━━━━━━━━━━━━━━━━━━━━━━━━━━━━━━━━━━━━━━\u001b[0m \u001b[32m21.3/21.3 MB\u001b[0m \u001b[31m59.4 MB/s\u001b[0m eta \u001b[36m0:00:00\u001b[0m\n",
            "\u001b[?25hRequirement already satisfied: MarkupSafe>=2.0 in /usr/local/lib/python3.10/dist-packages (from jinja2->torch>=1.10.0->torchmetrics) (2.1.5)\n",
            "Requirement already satisfied: mpmath<1.4,>=1.1.0 in /usr/local/lib/python3.10/dist-packages (from sympy->torch>=1.10.0->torchmetrics) (1.3.0)\n",
            "Installing collected packages: nvidia-nvtx-cu12, nvidia-nvjitlink-cu12, nvidia-nccl-cu12, nvidia-curand-cu12, nvidia-cufft-cu12, nvidia-cuda-runtime-cu12, nvidia-cuda-nvrtc-cu12, nvidia-cuda-cupti-cu12, nvidia-cublas-cu12, lightning-utilities, nvidia-cusparse-cu12, nvidia-cudnn-cu12, nvidia-cusolver-cu12, torchmetrics\n",
            "Successfully installed lightning-utilities-0.11.3.post0 nvidia-cublas-cu12-12.1.3.1 nvidia-cuda-cupti-cu12-12.1.105 nvidia-cuda-nvrtc-cu12-12.1.105 nvidia-cuda-runtime-cu12-12.1.105 nvidia-cudnn-cu12-8.9.2.26 nvidia-cufft-cu12-11.0.2.54 nvidia-curand-cu12-10.3.2.106 nvidia-cusolver-cu12-11.4.5.107 nvidia-cusparse-cu12-12.1.0.106 nvidia-nccl-cu12-2.20.5 nvidia-nvjitlink-cu12-12.5.82 nvidia-nvtx-cu12-12.1.105 torchmetrics-1.4.0.post0\n"
          ]
        }
      ]
    },
    {
      "cell_type": "code",
      "source": [
        "import torchmetrics\n",
        "\n",
        "preds = torch.randn(10, 5).softmax(dim = -1)\n",
        "target = torch.randint(5, (10,))\n",
        "print(preds, target)\n",
        "acc = torchmetrics.functional.accuracy(preds, target, task = 'multiclass', num_classes = 5)\n",
        "print(acc)"
      ],
      "metadata": {
        "colab": {
          "base_uri": "https://localhost:8080/"
        },
        "id": "DrStu1j1umyZ",
        "outputId": "c133375e-195c-4915-a910-fdd703eb95e4"
      },
      "execution_count": null,
      "outputs": [
        {
          "output_type": "stream",
          "name": "stdout",
          "text": [
            "tensor([[0.2733, 0.0340, 0.3079, 0.3164, 0.0684],\n",
            "        [0.0532, 0.2176, 0.1192, 0.1508, 0.4591],\n",
            "        [0.5313, 0.0554, 0.1544, 0.0645, 0.1943],\n",
            "        [0.1544, 0.0794, 0.5796, 0.1304, 0.0563],\n",
            "        [0.1080, 0.1691, 0.1610, 0.2235, 0.3385],\n",
            "        [0.0141, 0.0852, 0.6296, 0.2375, 0.0336],\n",
            "        [0.2972, 0.3048, 0.2555, 0.0826, 0.0599],\n",
            "        [0.0339, 0.0437, 0.3490, 0.1213, 0.4521],\n",
            "        [0.3576, 0.2188, 0.0620, 0.1734, 0.1882],\n",
            "        [0.2894, 0.0318, 0.1851, 0.1176, 0.3761]]) tensor([3, 0, 3, 1, 0, 0, 0, 2, 4, 4])\n",
            "tensor(0.2000)\n"
          ]
        }
      ]
    },
    {
      "cell_type": "code",
      "source": [
        "metric = torchmetrics.Accuracy(task = 'multiclass', num_classes = 5)\n",
        "\n",
        "n_batches = 10\n",
        "for i in range(n_batches):\n",
        "  preds = torch.randn(10, 5).softmax(dim = -1)\n",
        "  target = torch.randint(5, (10, ))\n",
        "\n",
        "  acc = metric(preds, target)\n",
        "  print(acc)\n",
        "acc = metric.compute()\n",
        "print(acc)"
      ],
      "metadata": {
        "colab": {
          "base_uri": "https://localhost:8080/"
        },
        "id": "DFG56qS3wf2S",
        "outputId": "59f4991f-4f46-4553-e9a3-2ac1f9e1d5a9"
      },
      "execution_count": null,
      "outputs": [
        {
          "output_type": "stream",
          "name": "stdout",
          "text": [
            "tensor(0.)\n",
            "tensor(0.4000)\n",
            "tensor(0.3000)\n",
            "tensor(0.1000)\n",
            "tensor(0.3000)\n",
            "tensor(0.1000)\n",
            "tensor(0.)\n",
            "tensor(0.2000)\n",
            "tensor(0.3000)\n",
            "tensor(0.1000)\n",
            "tensor(0.1800)\n"
          ]
        }
      ]
    },
    {
      "cell_type": "code",
      "source": [
        "X = torch.randn(200, 1) * 10\n",
        "Y = X + 3*torch.randn(200, 1)\n",
        "plt.scatter(X.numpy(), Y.numpy())\n",
        "plt.ylabel('y')\n",
        "plt.xlabel('x')\n",
        "plt.grid()\n",
        "plt.show()"
      ],
      "metadata": {
        "colab": {
          "base_uri": "https://localhost:8080/",
          "height": 449
        },
        "id": "bSs2WVBSGhJZ",
        "outputId": "b564a649-1650-4b9b-ac76-20ba5d926235"
      },
      "execution_count": null,
      "outputs": [
        {
          "output_type": "display_data",
          "data": {
            "text/plain": [
              "<Figure size 640x480 with 1 Axes>"
            ],
            "image/png": "[encoded data removed]"
          },
          "metadata": {}
        }
      ]
    },
    {
      "cell_type": "code",
      "source": [
        "class LinearRegressionModel(nn.Module):\n",
        "  def __init__(self):\n",
        "    super(LinearRegressionModel, self).__init__()\n",
        "    self.linear = nn.Linear(1, 1)\n",
        "  def forward(self, x):\n",
        "    pred = self.linear(x)\n",
        "    return pred\n"
      ],
      "metadata": {
        "id": "OejGJTJwHxik"
      },
      "execution_count": null,
      "outputs": []
    },
    {
      "cell_type": "code",
      "source": [
        "model = LinearRegressionModel()\n",
        "print(model)\n",
        "print(list(model.parameters()))"
      ],
      "metadata": {
        "colab": {
          "base_uri": "https://localhost:8080/"
        },
        "id": "R_-_YOdNI5Qy",
        "outputId": "3ca32520-05ef-4ee8-afb0-7cbaab74b76b"
      },
      "execution_count": null,
      "outputs": [
        {
          "output_type": "stream",
          "name": "stdout",
          "text": [
            "LinearRegressionModel(\n",
            "  (linear): Linear(in_features=1, out_features=1, bias=True)\n",
            ")\n",
            "[Parameter containing:\n",
            "tensor([[0.0410]], requires_grad=True), Parameter containing:\n",
            "tensor([-0.6044], requires_grad=True)]\n"
          ]
        }
      ]
    },
    {
      "cell_type": "code",
      "source": [
        "w, b = model.parameters()\n",
        "w1, b1 = w[0][0].item(), b[0].item()\n",
        "x1 = np.array([-30, 30])\n",
        "y1 = w1*x1 + b1\n",
        "plt.plot(x1, y1, 'r')\n",
        "plt.scatter(X, Y)\n",
        "plt.grid()\n",
        "plt.show()"
      ],
      "metadata": {
        "colab": {
          "base_uri": "https://localhost:8080/",
          "height": 430
        },
        "id": "DSbk0joHI_WB",
        "outputId": "f76bdba2-7639-4c5a-e5e0-094d32b5f3a3"
      },
      "execution_count": null,
      "outputs": [
        {
          "output_type": "display_data",
          "data": {
            "text/plain": [
              "<Figure size 640x480 with 1 Axes>"
            ],
            "image/png": "[encoded data removed]"
          },
          "metadata": {}
        }
      ]
    },
    {
      "cell_type": "code",
      "source": [
        "import torch.optim as optim\n",
        "criterion = nn.MSELoss()\n",
        "optimizer = optim.SGD(model.parameters(), lr = 0.001)"
      ],
      "metadata": {
        "id": "ADVz5E6TJWud"
      },
      "execution_count": null,
      "outputs": []
    },
    {
      "cell_type": "code",
      "source": [
        "epoches = 100\n",
        "losses = []\n",
        "for epoch in range(epoches):\n",
        "  optimizer.zero_grad()\n",
        "  y_pred = model(X)\n",
        "  loss = criterion(y_pred, Y)\n",
        "  losses.append(loss.item())\n",
        "  loss.backward()\n",
        "  optimizer.step()"
      ],
      "metadata": {
        "id": "26SmRy0fKJoP"
      },
      "execution_count": null,
      "outputs": []
    },
    {
      "cell_type": "code",
      "source": [
        "plt.plot(range(epoches), losses)\n",
        "plt.ylabel('Loss')\n",
        "plt.xlabel('Epoch')\n",
        "plt.show()"
      ],
      "metadata": {
        "colab": {
          "base_uri": "https://localhost:8080/",
          "height": 449
        },
        "id": "Tq610HZbPlk6",
        "outputId": "ffec184b-d06f-45d3-f762-7021d86014a1"
      },
      "execution_count": null,
      "outputs": [
        {
          "output_type": "display_data",
          "data": {
            "text/plain": [
              "<Figure size 640x480 with 1 Axes>"
            ],
            "image/png": "[encoded data removed]"
          },
          "metadata": {}
        }
      ]
    },
    {
      "cell_type": "code",
      "source": [
        "w, b = model.parameters()\n",
        "w1, b1 = w[0][0].item(), b[0].item()\n",
        "x1 = np.array([-30, 30])\n",
        "y1 = w1*x1 + b1\n",
        "plt.plot(x1, y1, 'r')\n",
        "plt.scatter(X, Y)\n",
        "plt.grid()\n",
        "plt.show()"
      ],
      "metadata": {
        "colab": {
          "base_uri": "https://localhost:8080/",
          "height": 430
        },
        "id": "in9p0KGrPwZC",
        "outputId": "6086292b-e2c8-4c8c-fb64-62d22b1777fc"
      },
      "execution_count": null,
      "outputs": [
        {
          "output_type": "display_data",
          "data": {
            "text/plain": [
              "<Figure size 640x480 with 1 Axes>"
            ],
            "image/png": "[encoded data removed]"
          },
          "metadata": {}
        }
      ]
    },
    {
      "cell_type": "code",
      "source": [
        "device = torch.device('cuda' if torch.cuda.is_available() else 'cpu')\n",
        "print(device)"
      ],
      "metadata": {
        "id": "vVxZp4eFSEdf",
        "colab": {
          "base_uri": "https://localhost:8080/"
        },
        "outputId": "7aee628d-6d19-4000-88ff-797a2c88a461"
      },
      "execution_count": null,
      "outputs": [
        {
          "output_type": "stream",
          "name": "stdout",
          "text": [
            "cuda\n"
          ]
        }
      ]
    },
    {
      "cell_type": "code",
      "source": [
        "transform = transforms.Compose([transforms.ToTensor(),\n",
        "                               transforms.Normalize((0.5, ), (0.5, ))])"
      ],
      "metadata": {
        "id": "geN5T3kVZPtz"
      },
      "execution_count": null,
      "outputs": []
    },
    {
      "cell_type": "code",
      "source": [
        "trainset = datasets.FashionMNIST(root='/content/',\n",
        "                                 train = True, download = True, transform = transform)\n",
        "testset = datasets.FashionMNIST(root='/content/',\n",
        "                                train = False, download = True, transform = transform)"
      ],
      "metadata": {
        "colab": {
          "base_uri": "https://localhost:8080/"
        },
        "id": "uGjGEOwtaSzL",
        "outputId": "578a2471-bb74-4487-a8ae-d26d210011de"
      },
      "execution_count": null,
      "outputs": [
        {
          "output_type": "stream",
          "name": "stdout",
          "text": [
            "Downloading http://fashion-mnist.s3-website.eu-central-1.amazonaws.com/train-images-idx3-ubyte.gz\n",
            "Downloading http://fashion-mnist.s3-website.eu-central-1.amazonaws.com/train-images-idx3-ubyte.gz to /content/FashionMNIST/raw/train-images-idx3-ubyte.gz\n"
          ]
        },
        {
          "output_type": "stream",
          "name": "stderr",
          "text": [
            "100%|██████████| 26421880/26421880 [00:08<00:00, 3110334.80it/s]\n"
          ]
        },
        {
          "output_type": "stream",
          "name": "stdout",
          "text": [
            "Extracting /content/FashionMNIST/raw/train-images-idx3-ubyte.gz to /content/FashionMNIST/raw\n",
            "\n",
            "Downloading http://fashion-mnist.s3-website.eu-central-1.amazonaws.com/train-labels-idx1-ubyte.gz\n",
            "Downloading http://fashion-mnist.s3-website.eu-central-1.amazonaws.com/train-labels-idx1-ubyte.gz to /content/FashionMNIST/raw/train-labels-idx1-ubyte.gz\n"
          ]
        },
        {
          "output_type": "stream",
          "name": "stderr",
          "text": [
            "100%|██████████| 29515/29515 [00:00<00:00, 203428.32it/s]\n"
          ]
        },
        {
          "output_type": "stream",
          "name": "stdout",
          "text": [
            "Extracting /content/FashionMNIST/raw/train-labels-idx1-ubyte.gz to /content/FashionMNIST/raw\n",
            "\n",
            "Downloading http://fashion-mnist.s3-website.eu-central-1.amazonaws.com/t10k-images-idx3-ubyte.gz\n",
            "Downloading http://fashion-mnist.s3-website.eu-central-1.amazonaws.com/t10k-images-idx3-ubyte.gz to /content/FashionMNIST/raw/t10k-images-idx3-ubyte.gz\n"
          ]
        },
        {
          "output_type": "stream",
          "name": "stderr",
          "text": [
            "100%|██████████| 4422102/4422102 [00:01<00:00, 3744745.86it/s]\n"
          ]
        },
        {
          "output_type": "stream",
          "name": "stdout",
          "text": [
            "Extracting /content/FashionMNIST/raw/t10k-images-idx3-ubyte.gz to /content/FashionMNIST/raw\n",
            "\n",
            "Downloading http://fashion-mnist.s3-website.eu-central-1.amazonaws.com/t10k-labels-idx1-ubyte.gz\n",
            "Downloading http://fashion-mnist.s3-website.eu-central-1.amazonaws.com/t10k-labels-idx1-ubyte.gz to /content/FashionMNIST/raw/t10k-labels-idx1-ubyte.gz\n"
          ]
        },
        {
          "output_type": "stream",
          "name": "stderr",
          "text": [
            "100%|██████████| 5148/5148 [00:00<00:00, 6468627.02it/s]"
          ]
        },
        {
          "output_type": "stream",
          "name": "stdout",
          "text": [
            "Extracting /content/FashionMNIST/raw/t10k-labels-idx1-ubyte.gz to /content/FashionMNIST/raw\n",
            "\n"
          ]
        },
        {
          "output_type": "stream",
          "name": "stderr",
          "text": [
            "\n"
          ]
        }
      ]
    },
    {
      "cell_type": "code",
      "source": [
        "train_loader = DataLoader(trainset, batch_size = 128, shuffle = True, num_workers = 2)\n",
        "test_loader = DataLoader(testset, batch_size = 128, shuffle = False, num_workers = 2)"
      ],
      "metadata": {
        "id": "haIjY5Tiag_d"
      },
      "execution_count": null,
      "outputs": []
    },
    {
      "cell_type": "code",
      "source": [
        "images, labels = next(iter(train_loader))\n",
        "images.shape, labels.shape"
      ],
      "metadata": {
        "colab": {
          "base_uri": "https://localhost:8080/"
        },
        "id": "aqCZaFrzazMK",
        "outputId": "be982acb-85f4-4971-f2de-de6d7d697f5f"
      },
      "execution_count": null,
      "outputs": [
        {
          "output_type": "execute_result",
          "data": {
            "text/plain": [
              "(torch.Size([128, 1, 28, 28]), torch.Size([128]))"
            ]
          },
          "metadata": {},
          "execution_count": 123
        }
      ]
    },
    {
      "cell_type": "code",
      "source": [
        "labels_map = {\n",
        "    0: \"T-shirt/top\",\n",
        "    1: \"Trouser\",\n",
        "    2: \"Pullover\",\n",
        "    3: \"Dress\",\n",
        "    4: \"Coat\",\n",
        "    5: \"Sandal\",\n",
        "    6: \"Shirt\",\n",
        "    7: \"Sneaker\",\n",
        "    8: \"Bag\",\n",
        "    9: \"Ankle boot\"\n",
        "}\n",
        "\n",
        "figure = plt.figure(figsize=(12, 12))\n",
        "cols, rows = 4, 4\n",
        "for i in range(1, cols*rows + 1):\n",
        "  image = images[i].squeeze()\n",
        "  label_idx = labels[i].item()\n",
        "  label = labels_map[label_idx]\n",
        "  figure.add_subplot(rows, cols, i)\n",
        "  plt.title(label)\n",
        "  plt.axis(\"off\")\n",
        "  plt.imshow(image, cmap=\"gray\")\n",
        "plt.show()"
      ],
      "metadata": {
        "colab": {
          "base_uri": "https://localhost:8080/",
          "height": 983
        },
        "id": "hTQDhVHYa3Ca",
        "outputId": "60f5bce0-6fcf-47cc-dd8d-302c7b64878a"
      },
      "execution_count": null,
      "outputs": [
        {
          "output_type": "display_data",
          "data": {
            "text/plain": [
              "<Figure size 1200x1200 with 16 Axes>"
            ],
            "image/png": "[encoded data removed]"
          },
          "metadata": {}
        }
      ]
    },
    {
      "cell_type": "code",
      "source": [
        "class NN(nn.Module):\n",
        "  def __init__(self):\n",
        "    super(NN, self).__init__()\n",
        "\n",
        "    self.conv1 = nn.Conv2d(1, 6, 3)\n",
        "    self.conv2 = nn.Conv2d(6, 16, 3)\n",
        "    self.fc1 = nn.Linear(16 * 5 * 5, 120)\n",
        "    self.fc2 = nn.Linear(120, 84)\n",
        "    self.fc3 = nn.Linear(84, 10)\n",
        "\n",
        "  def forward(self, x):\n",
        "    x = F.max_pool2d(F.relu(self.conv1(x)), (2, 2))\n",
        "    x = F.max_pool2d(F.relu(self.conv2(x)), 2)\n",
        "    #(1, 28, 28) --> (6, 26, 26) --> (6, 13, 13) --> (16, 13, 13) --> (16, 11, 11) --> (16, 5, 5) (내림한 듯)\n",
        "\n",
        "    x = x.view(-1, self.num_flat_features(x))\n",
        "    x = F.relu(self.fc1(x))\n",
        "    x = F.relu(self.fc2(x))\n",
        "    x = self.fc3(x)\n",
        "    return x\n",
        "\n",
        "  def num_flat_features(self, x):\n",
        "    size = x.size()[1:]\n",
        "    num_features = 1\n",
        "    for s in size:\n",
        "      num_features *= s\n",
        "    return num_features\n",
        "\n",
        "net = NN()\n",
        "print(net)"
      ],
      "metadata": {
        "colab": {
          "base_uri": "https://localhost:8080/"
        },
        "id": "dOrNPlJabPSh",
        "outputId": "6a448b05-a2e5-4717-a651-e5243fdc2caf"
      },
      "execution_count": null,
      "outputs": [
        {
          "output_type": "stream",
          "name": "stdout",
          "text": [
            "NN(\n",
            "  (conv1): Conv2d(1, 6, kernel_size=(3, 3), stride=(1, 1))\n",
            "  (conv2): Conv2d(6, 16, kernel_size=(3, 3), stride=(1, 1))\n",
            "  (fc1): Linear(in_features=400, out_features=120, bias=True)\n",
            "  (fc2): Linear(in_features=120, out_features=84, bias=True)\n",
            "  (fc3): Linear(in_features=84, out_features=10, bias=True)\n",
            ")\n"
          ]
        }
      ]
    },
    {
      "cell_type": "code",
      "source": [
        "params = list(net.parameters())\n",
        "print(len(params))\n",
        "print(params[0].size())"
      ],
      "metadata": {
        "colab": {
          "base_uri": "https://localhost:8080/"
        },
        "id": "l9jHZu-2dpIC",
        "outputId": "751072fb-bf4f-4b08-eac6-e51896022ab1"
      },
      "execution_count": null,
      "outputs": [
        {
          "output_type": "stream",
          "name": "stdout",
          "text": [
            "10\n",
            "torch.Size([6, 1, 3, 3])\n"
          ]
        }
      ]
    },
    {
      "cell_type": "code",
      "source": [
        "input = torch.randn(1, 1, 28, 28)\n",
        "out = net(input)\n",
        "print(out)"
      ],
      "metadata": {
        "colab": {
          "base_uri": "https://localhost:8080/"
        },
        "id": "St2djDiwiAwQ",
        "outputId": "240dad6d-10a1-45c6-b4ce-c62f8ebbdbb7"
      },
      "execution_count": null,
      "outputs": [
        {
          "output_type": "stream",
          "name": "stdout",
          "text": [
            "tensor([[-0.0670, -0.0571,  0.1053,  0.0696, -0.0230, -0.0104, -0.0614, -0.0159,\n",
            "          0.0817, -0.0973]], grad_fn=<AddmmBackward0>)\n"
          ]
        }
      ]
    },
    {
      "cell_type": "code",
      "source": [
        "criterion = nn.CrossEntropyLoss()\n",
        "optimizer = optim.SGD(net.parameters(), lr = 0.001, momentum = 0.9)"
      ],
      "metadata": {
        "id": "d8wnbaF3iGjo"
      },
      "execution_count": null,
      "outputs": []
    },
    {
      "cell_type": "code",
      "source": [
        "total_batch = len(train_loader)\n",
        "print(total_batch)"
      ],
      "metadata": {
        "colab": {
          "base_uri": "https://localhost:8080/"
        },
        "id": "STqzDO2mijn5",
        "outputId": "8478ce39-a146-4fe5-c98a-47353fb585f6"
      },
      "execution_count": null,
      "outputs": [
        {
          "output_type": "stream",
          "name": "stdout",
          "text": [
            "469\n"
          ]
        }
      ]
    },
    {
      "cell_type": "code",
      "source": [
        "for epoch in range(10):\n",
        "  running_loss = 0.0\n",
        "  for i, data in enumerate(train_loader, 0):\n",
        "    inputs, labels = data\n",
        "    optimizer.zero_grad()\n",
        "    outputs = net(inputs)\n",
        "    loss = criterion(outputs, labels)\n",
        "    loss.backward()\n",
        "    optimizer.step()\n",
        "    running_loss += loss.item()\n",
        "\n",
        "    if i%100 == 99:\n",
        "      print('Epoch: {}, Iter: {}, Loss: {}'.format(epoch + 1, i + 1, running_loss))\n",
        "      running_loss = 0.0\n"
      ],
      "metadata": {
        "colab": {
          "base_uri": "https://localhost:8080/"
        },
        "id": "2XFb0EBQizi4",
        "outputId": "10058f0f-9c00-4422-b377-9cddcf47243e"
      },
      "execution_count": null,
      "outputs": [
        {
          "output_type": "stream",
          "name": "stdout",
          "text": [
            "Epoch: 1, Iter: 100, Loss: 230.17409324645996\n",
            "Epoch: 1, Iter: 200, Loss: 228.64572739601135\n",
            "Epoch: 1, Iter: 300, Loss: 226.6410210132599\n",
            "Epoch: 1, Iter: 400, Loss: 221.95358967781067\n",
            "Epoch: 2, Iter: 100, Loss: 172.22572124004364\n",
            "Epoch: 2, Iter: 200, Loss: 115.47410362958908\n",
            "Epoch: 2, Iter: 300, Loss: 92.84188598394394\n",
            "Epoch: 2, Iter: 400, Loss: 82.861398935318\n",
            "Epoch: 3, Iter: 100, Loss: 74.47934585809708\n",
            "Epoch: 3, Iter: 200, Loss: 71.73088347911835\n",
            "Epoch: 3, Iter: 300, Loss: 68.94264167547226\n",
            "Epoch: 3, Iter: 400, Loss: 67.39579594135284\n",
            "Epoch: 4, Iter: 100, Loss: 64.45374935865402\n",
            "Epoch: 4, Iter: 200, Loss: 63.538761138916016\n",
            "Epoch: 4, Iter: 300, Loss: 63.24989461898804\n",
            "Epoch: 4, Iter: 400, Loss: 62.92163556814194\n",
            "Epoch: 5, Iter: 100, Loss: 61.30735343694687\n",
            "Epoch: 5, Iter: 200, Loss: 59.69167220592499\n",
            "Epoch: 5, Iter: 300, Loss: 59.835885882377625\n",
            "Epoch: 5, Iter: 400, Loss: 58.590435206890106\n",
            "Epoch: 6, Iter: 100, Loss: 58.129805356264114\n",
            "Epoch: 6, Iter: 200, Loss: 55.23115095496178\n",
            "Epoch: 6, Iter: 300, Loss: 56.179477840662\n",
            "Epoch: 6, Iter: 400, Loss: 55.900412797927856\n",
            "Epoch: 7, Iter: 100, Loss: 54.7532576918602\n",
            "Epoch: 7, Iter: 200, Loss: 53.77531015872955\n",
            "Epoch: 7, Iter: 300, Loss: 52.41707417368889\n",
            "Epoch: 7, Iter: 400, Loss: 54.050192058086395\n",
            "Epoch: 8, Iter: 100, Loss: 52.367170333862305\n",
            "Epoch: 8, Iter: 200, Loss: 51.557393461465836\n",
            "Epoch: 8, Iter: 300, Loss: 50.056617587804794\n",
            "Epoch: 8, Iter: 400, Loss: 51.7796445786953\n",
            "Epoch: 9, Iter: 100, Loss: 52.13109514117241\n",
            "Epoch: 9, Iter: 200, Loss: 48.60512864589691\n",
            "Epoch: 9, Iter: 300, Loss: 49.97973981499672\n",
            "Epoch: 9, Iter: 400, Loss: 48.69015669822693\n",
            "Epoch: 10, Iter: 100, Loss: 48.36071267724037\n",
            "Epoch: 10, Iter: 200, Loss: 48.46789687871933\n",
            "Epoch: 10, Iter: 300, Loss: 48.64258047938347\n",
            "Epoch: 10, Iter: 400, Loss: 47.31876429915428\n"
          ]
        }
      ]
    },
    {
      "cell_type": "code",
      "source": [
        "PATH = './fashion_mnist.pth'\n",
        "torch.save(net.state_dict(), PATH)"
      ],
      "metadata": {
        "id": "sC9hReo3jeWU"
      },
      "execution_count": null,
      "outputs": []
    },
    {
      "cell_type": "code",
      "source": [
        "net = NN()\n",
        "net.load_state_dict(torch.load(PATH))"
      ],
      "metadata": {
        "colab": {
          "base_uri": "https://localhost:8080/"
        },
        "id": "cxOfysiUkZd2",
        "outputId": "808accea-18a6-4f6b-d67b-b90bb27095fc"
      },
      "execution_count": null,
      "outputs": [
        {
          "output_type": "execute_result",
          "data": {
            "text/plain": [
              "<All keys matched successfully>"
            ]
          },
          "metadata": {},
          "execution_count": 138
        }
      ]
    },
    {
      "cell_type": "code",
      "source": [
        "print(list(net.named_parameters()))"
      ],
      "metadata": {
        "colab": {
          "base_uri": "https://localhost:8080/"
        },
        "id": "-NkzBhdfkbuf",
        "outputId": "21bb5757-61fb-4e7e-c463-547e926c3c7f"
      },
      "execution_count": null,
      "outputs": [
        {
          "output_type": "stream",
          "name": "stdout",
          "text": [
            "[('conv1.weight', Parameter containing:\n",
            "tensor([[[[-0.3237, -0.2753,  0.0920],\n",
            "          [-0.5042,  0.1583,  0.2105],\n",
            "          [-0.2575,  0.3832,  0.1182]]],\n",
            "\n",
            "\n",
            "        [[[ 0.3269,  0.0402,  0.0336],\n",
            "          [-0.1266,  0.3570, -0.3504],\n",
            "          [ 0.2287, -0.1753,  0.2121]]],\n",
            "\n",
            "\n",
            "        [[[-0.5603, -0.8782, -0.6892],\n",
            "          [-0.3440, -0.8219, -0.5309],\n",
            "          [-0.4197, -0.6178, -0.1026]]],\n",
            "\n",
            "\n",
            "        [[[-0.3820,  0.2750, -0.1913],\n",
            "          [ 0.1387, -0.1706,  0.3548],\n",
            "          [-0.4365, -0.0308,  0.1269]]],\n",
            "\n",
            "\n",
            "        [[[-0.2936, -0.0046,  0.4407],\n",
            "          [ 0.1040, -0.2310,  0.0884],\n",
            "          [-0.4971, -0.0094,  0.5082]]],\n",
            "\n",
            "\n",
            "        [[[ 0.3731, -0.2279,  0.1872],\n",
            "          [ 0.1867,  0.2889,  0.3988],\n",
            "          [-0.0369, -0.1617, -0.3237]]]], requires_grad=True)), ('conv1.bias', Parameter containing:\n",
            "tensor([0.1864, 0.5483, 0.5680, 0.0291, 0.2541, 0.6859], requires_grad=True)), ('conv2.weight', Parameter containing:\n",
            "tensor([[[[ 1.6322e-03,  1.8478e-01,  5.9247e-02],\n",
            "          [ 1.8504e-01,  3.7833e-02,  1.4042e-02],\n",
            "          [ 8.8492e-02,  4.0079e-02,  8.7080e-04]],\n",
            "\n",
            "         [[-1.1662e-01, -1.0297e-01, -1.0222e-01],\n",
            "          [ 4.2478e-02,  1.6465e-01,  1.9684e-02],\n",
            "          [ 4.3157e-02,  7.6476e-02,  4.9479e-02]],\n",
            "\n",
            "         [[ 1.5686e-01, -8.9580e-03,  1.1514e-01],\n",
            "          [-3.0300e-03, -2.0236e-01, -9.5337e-03],\n",
            "          [-7.2425e-03, -1.1324e-01, -6.1349e-02]],\n",
            "\n",
            "         [[ 7.3097e-02, -4.6323e-02,  4.5887e-02],\n",
            "          [ 1.9938e-02,  4.2190e-02, -2.7133e-02],\n",
            "          [-6.5727e-02, -5.5893e-02,  6.8666e-02]],\n",
            "\n",
            "         [[ 1.3588e-01, -3.4016e-02,  1.0177e-01],\n",
            "          [ 1.6545e-01,  2.8431e-02,  1.3006e-01],\n",
            "          [ 1.8688e-01,  5.7436e-02, -6.4893e-02]],\n",
            "\n",
            "         [[ 2.5270e-02,  1.0841e-01, -1.2100e-01],\n",
            "          [ 9.8021e-02,  1.4264e-01, -3.4346e-03],\n",
            "          [ 1.6232e-01, -7.4037e-02, -1.0546e-01]]],\n",
            "\n",
            "\n",
            "        [[[ 8.1344e-02,  5.3458e-03, -9.4644e-02],\n",
            "          [-6.5918e-02, -4.9070e-02, -9.8008e-02],\n",
            "          [-1.8306e-03, -3.8855e-02,  1.5710e-02]],\n",
            "\n",
            "         [[ 4.3486e-02,  1.6663e-01,  1.3341e-01],\n",
            "          [ 2.1142e-02,  9.9576e-02,  1.9711e-01],\n",
            "          [-2.7065e-02,  9.4089e-02,  1.6515e-01]],\n",
            "\n",
            "         [[ 5.8500e-02, -2.6268e-01,  6.3542e-02],\n",
            "          [-9.2383e-02, -1.0206e-02, -1.7819e-02],\n",
            "          [ 1.5741e-01,  1.5900e-01, -9.1209e-02]],\n",
            "\n",
            "         [[-6.1862e-02, -7.3980e-02, -1.2513e-01],\n",
            "          [ 1.0548e-01, -1.9495e-03,  2.3243e-02],\n",
            "          [ 9.6407e-02,  7.9150e-02,  1.8130e-01]],\n",
            "\n",
            "         [[ 2.3773e-01, -2.4701e-02, -2.6251e-02],\n",
            "          [ 2.3502e-01,  2.1858e-01,  1.9207e-01],\n",
            "          [ 8.0946e-02,  1.1142e-01,  1.3088e-01]],\n",
            "\n",
            "         [[ 7.9108e-03,  2.4547e-01,  1.1255e-01],\n",
            "          [ 2.1077e-01,  2.4191e-01,  9.6981e-02],\n",
            "          [ 2.2512e-01,  1.5961e-01,  2.2285e-02]]],\n",
            "\n",
            "\n",
            "        [[[-6.7113e-02,  2.0459e-01,  1.3572e-01],\n",
            "          [-1.4327e-01,  5.8913e-03,  1.6778e-01],\n",
            "          [-1.0092e-02,  1.3234e-01,  1.3267e-01]],\n",
            "\n",
            "         [[ 6.4775e-02,  4.9024e-02, -1.0249e-01],\n",
            "          [-7.3015e-02, -4.0888e-02, -1.1257e-01],\n",
            "          [ 7.9161e-02, -7.6087e-03,  3.8624e-02]],\n",
            "\n",
            "         [[ 8.6006e-03,  3.6077e-01,  7.8057e-02],\n",
            "          [-1.1050e-01,  2.7094e-01,  1.2950e-01],\n",
            "          [ 1.4041e-01,  3.7247e-01,  3.6667e-01]],\n",
            "\n",
            "         [[-3.3717e-02, -5.4972e-02,  1.5409e-01],\n",
            "          [ 8.0753e-02, -6.7934e-03,  8.4129e-02],\n",
            "          [ 5.5330e-02,  1.4130e-01,  2.9734e-02]],\n",
            "\n",
            "         [[ 6.5608e-02,  1.4616e-01,  2.7329e-02],\n",
            "          [-8.4504e-02, -3.6856e-02,  1.0518e-01],\n",
            "          [ 1.5737e-02,  6.7119e-02,  2.7336e-02]],\n",
            "\n",
            "         [[-6.6284e-02, -6.2725e-02,  8.5266e-02],\n",
            "          [ 5.5078e-02, -1.1168e-01,  2.5600e-02],\n",
            "          [ 1.0657e-01, -1.1768e-01, -1.7449e-02]]],\n",
            "\n",
            "\n",
            "        [[[ 1.4014e-01,  7.0952e-02,  8.0579e-02],\n",
            "          [ 1.4171e-01, -2.3459e-02,  1.1177e-01],\n",
            "          [ 8.1590e-02, -8.6018e-02,  5.3624e-02]],\n",
            "\n",
            "         [[ 8.6933e-02,  6.0661e-02,  4.8322e-02],\n",
            "          [ 8.9339e-02, -7.3138e-02,  6.9430e-02],\n",
            "          [ 1.1159e-02, -2.9474e-02, -8.5919e-02]],\n",
            "\n",
            "         [[-4.2559e-02,  3.9597e-02,  3.8100e-01],\n",
            "          [ 6.5012e-02,  5.9395e-02,  6.0006e-03],\n",
            "          [ 9.4896e-02,  2.3399e-01,  3.3256e-01]],\n",
            "\n",
            "         [[ 3.8014e-03, -6.8011e-02, -4.7513e-02],\n",
            "          [ 2.6876e-02,  1.0103e-01, -1.0285e-02],\n",
            "          [ 3.0424e-02, -3.6646e-02,  1.6633e-01]],\n",
            "\n",
            "         [[-6.7859e-03, -1.2703e-01,  3.3862e-02],\n",
            "          [ 6.1782e-02,  4.4368e-02, -3.3257e-02],\n",
            "          [ 9.5559e-02,  1.2136e-01,  1.2794e-01]],\n",
            "\n",
            "         [[-1.0528e-01,  2.3682e-02, -6.8125e-02],\n",
            "          [ 2.3425e-02, -2.5616e-02, -5.0793e-02],\n",
            "          [-3.0487e-02, -5.6823e-02, -4.5485e-02]]],\n",
            "\n",
            "\n",
            "        [[[ 7.9062e-02,  2.6159e-01, -2.7639e-02],\n",
            "          [ 2.3323e-01,  2.2717e-01,  3.1322e-02],\n",
            "          [ 1.7786e-01,  1.1343e-01,  3.3069e-02]],\n",
            "\n",
            "         [[-7.8507e-02,  6.2361e-02,  2.0336e-01],\n",
            "          [ 1.3797e-01,  2.3097e-01,  4.4953e-02],\n",
            "          [ 1.5373e-02,  1.9434e-01,  2.1871e-01]],\n",
            "\n",
            "         [[ 5.0119e-01,  4.6136e-02, -2.4649e-01],\n",
            "          [ 3.0015e-01, -2.8440e-01, -1.5987e-01],\n",
            "          [ 4.2609e-02, -3.2980e-01, -6.2152e-02]],\n",
            "\n",
            "         [[ 1.8988e-01,  2.6557e-02, -3.7365e-02],\n",
            "          [ 1.5911e-03,  5.8700e-02,  1.1307e-02],\n",
            "          [ 2.7940e-02,  6.5668e-02,  9.1099e-02]],\n",
            "\n",
            "         [[ 2.0756e-02,  1.9129e-01,  1.7195e-01],\n",
            "          [ 2.5836e-01,  2.4275e-01, -8.4141e-02],\n",
            "          [ 1.6136e-01,  1.8064e-01,  7.5283e-02]],\n",
            "\n",
            "         [[ 1.6529e-01,  1.3991e-01,  1.1412e-01],\n",
            "          [ 6.6698e-02,  2.3894e-01,  1.5201e-01],\n",
            "          [ 1.5165e-01,  7.8296e-02,  1.4419e-01]]],\n",
            "\n",
            "\n",
            "        [[[-3.3583e-02, -9.8519e-02,  5.8125e-02],\n",
            "          [-1.1622e-01,  9.9453e-03,  2.9606e-02],\n",
            "          [-5.7707e-02, -1.3797e-01, -1.0994e-01]],\n",
            "\n",
            "         [[-3.7304e-02, -2.9652e-02,  6.3770e-02],\n",
            "          [ 1.0287e-01,  9.5693e-02, -7.7032e-02],\n",
            "          [-8.6698e-02,  9.8028e-02, -1.2058e-01]],\n",
            "\n",
            "         [[ 3.5328e-02, -1.4608e-02, -1.2883e-01],\n",
            "          [-1.2990e-01, -9.6602e-02, -5.7402e-02],\n",
            "          [ 3.5792e-02,  1.1877e-01, -1.1033e-01]],\n",
            "\n",
            "         [[-9.3813e-02,  3.5819e-02,  5.3522e-02],\n",
            "          [ 1.3106e-01,  8.5780e-02,  1.2068e-01],\n",
            "          [ 8.7975e-02, -8.4172e-02, -5.7220e-02]],\n",
            "\n",
            "         [[-8.0751e-03,  4.0876e-02, -8.5542e-02],\n",
            "          [-3.4675e-02,  3.8821e-03, -1.0705e-01],\n",
            "          [-1.9264e-02,  1.8166e-02, -9.7163e-02]],\n",
            "\n",
            "         [[ 2.2694e-02, -1.2370e-01, -3.3863e-02],\n",
            "          [-9.3899e-02,  9.5941e-02,  7.6614e-03],\n",
            "          [-1.9705e-02,  7.0556e-02, -9.0337e-02]]],\n",
            "\n",
            "\n",
            "        [[[ 1.2603e-02,  8.9507e-02,  5.5317e-02],\n",
            "          [-7.0178e-02,  1.3923e-01,  5.5970e-02],\n",
            "          [-7.3716e-02,  1.1203e-01,  7.7147e-02]],\n",
            "\n",
            "         [[-3.0119e-02, -1.3598e-01, -7.8660e-02],\n",
            "          [-4.9259e-02, -1.1654e-01, -3.4155e-04],\n",
            "          [-3.9431e-02,  2.2770e-02, -4.7500e-02]],\n",
            "\n",
            "         [[ 1.9563e-01, -1.3512e-02,  2.6608e-01],\n",
            "          [ 9.1744e-02,  5.4227e-02, -1.1874e-02],\n",
            "          [-8.3762e-02, -9.3148e-02, -1.8157e-01]],\n",
            "\n",
            "         [[ 1.2890e-01, -2.8663e-02,  4.0484e-02],\n",
            "          [ 9.5996e-02, -3.9874e-02, -6.9337e-02],\n",
            "          [ 2.9356e-02, -5.6525e-02, -6.0583e-02]],\n",
            "\n",
            "         [[-8.4369e-02, -6.5235e-02,  1.0120e-02],\n",
            "          [-1.3370e-01,  1.0376e-01, -8.6197e-02],\n",
            "          [-9.2455e-02,  2.6547e-02, -2.4089e-03]],\n",
            "\n",
            "         [[ 1.3878e-02,  6.0915e-02, -7.0598e-02],\n",
            "          [-9.1894e-03,  1.3777e-01, -1.0213e-01],\n",
            "          [ 1.2779e-01,  1.6226e-02,  8.2546e-02]]],\n",
            "\n",
            "\n",
            "        [[[ 6.3800e-02, -1.0476e-01, -1.2620e-02],\n",
            "          [ 3.2797e-02, -4.0286e-02,  2.1778e-02],\n",
            "          [-1.1777e-01,  5.2872e-02,  6.3274e-02]],\n",
            "\n",
            "         [[ 9.9360e-03, -1.9002e-02,  1.4126e-03],\n",
            "          [ 4.7251e-02, -7.2723e-02,  4.7295e-02],\n",
            "          [-1.0691e-02, -1.0925e-01, -6.8070e-02]],\n",
            "\n",
            "         [[-1.0341e-01,  1.2698e-01, -6.4094e-02],\n",
            "          [-1.2612e-01,  2.9125e-03, -7.2601e-02],\n",
            "          [-5.3076e-02,  6.7027e-02, -1.0404e-01]],\n",
            "\n",
            "         [[ 1.0236e-01,  1.1553e-01, -1.0346e-01],\n",
            "          [-1.1877e-01,  2.6747e-02, -3.2621e-02],\n",
            "          [-3.1615e-03,  4.2825e-02, -1.1510e-01]],\n",
            "\n",
            "         [[ 1.1421e-01, -7.3636e-02,  1.0678e-01],\n",
            "          [-1.1750e-01, -9.5628e-02,  6.4737e-02],\n",
            "          [-2.2142e-02, -7.4099e-02, -9.6748e-02]],\n",
            "\n",
            "         [[-6.3566e-02,  2.5183e-02,  4.8175e-02],\n",
            "          [ 2.3567e-02, -2.4932e-02, -2.0790e-02],\n",
            "          [-1.2516e-01, -1.0490e-01,  6.1447e-03]]],\n",
            "\n",
            "\n",
            "        [[[ 5.2080e-03,  1.2682e-01,  9.3447e-02],\n",
            "          [-7.9351e-02,  1.7104e-01, -3.1722e-02],\n",
            "          [ 1.0241e-01,  1.0518e-01,  1.1596e-01]],\n",
            "\n",
            "         [[-1.3399e-01, -1.3678e-01, -4.9366e-02],\n",
            "          [ 7.4123e-03, -8.9499e-02, -1.2536e-01],\n",
            "          [ 1.1363e-01,  6.9754e-02,  9.0230e-02]],\n",
            "\n",
            "         [[ 3.7089e-01,  4.9189e-01,  3.4459e-01],\n",
            "          [ 2.2549e-01,  2.1435e-01, -8.1198e-03],\n",
            "          [ 2.6144e-01,  2.0351e-01,  1.2071e-01]],\n",
            "\n",
            "         [[-3.6951e-02,  1.1225e-02,  1.3196e-01],\n",
            "          [ 1.0107e-01,  5.0337e-02, -7.9463e-02],\n",
            "          [ 6.5868e-02,  1.0127e-01,  1.3286e-01]],\n",
            "\n",
            "         [[-1.3202e-01, -4.7433e-02,  1.2655e-01],\n",
            "          [ 8.8781e-02, -2.0215e-02,  1.4604e-01],\n",
            "          [ 2.6802e-02, -6.0512e-02,  8.0357e-02]],\n",
            "\n",
            "         [[ 1.9956e-02, -1.3085e-01, -1.4922e-01],\n",
            "          [ 3.1056e-02, -7.4290e-02,  8.3957e-02],\n",
            "          [-7.5390e-02, -4.2892e-02,  7.8289e-02]]],\n",
            "\n",
            "\n",
            "        [[[ 9.8958e-02, -5.2000e-02, -1.3982e-01],\n",
            "          [ 4.9437e-02,  1.3086e-01, -3.3570e-02],\n",
            "          [ 1.4897e-01, -5.1035e-02,  5.6047e-02]],\n",
            "\n",
            "         [[-9.1730e-02, -7.8409e-02, -1.0861e-02],\n",
            "          [ 1.5143e-02,  1.3894e-01, -8.0832e-02],\n",
            "          [ 9.6395e-02, -1.1609e-01,  2.3427e-02]],\n",
            "\n",
            "         [[ 1.5574e-01, -9.4757e-02,  9.1268e-03],\n",
            "          [-4.6075e-02,  2.7331e-02, -9.0125e-02],\n",
            "          [ 5.1504e-02, -2.6283e-02, -8.4045e-02]],\n",
            "\n",
            "         [[ 1.6843e-01,  1.1780e-01,  2.8072e-03],\n",
            "          [-5.4465e-02, -4.4482e-02,  9.0003e-02],\n",
            "          [-2.9447e-02,  6.1593e-02, -8.8424e-02]],\n",
            "\n",
            "         [[ 1.4366e-01,  6.6729e-02, -5.7616e-02],\n",
            "          [ 1.3797e-01,  4.9742e-02,  1.8722e-02],\n",
            "          [ 6.5377e-02, -1.1778e-01, -1.0382e-01]],\n",
            "\n",
            "         [[ 1.4979e-02,  1.4167e-01,  3.5912e-02],\n",
            "          [-5.9885e-02,  9.2785e-02,  1.5348e-01],\n",
            "          [ 9.8393e-02, -4.6032e-02, -1.2364e-01]]],\n",
            "\n",
            "\n",
            "        [[[ 3.2980e-02,  6.8293e-02,  1.2182e-01],\n",
            "          [-3.3337e-02, -6.6552e-02,  5.3120e-02],\n",
            "          [-6.7069e-02, -1.1532e-02, -9.9605e-02]],\n",
            "\n",
            "         [[-1.2759e-01,  8.7871e-02,  8.1035e-02],\n",
            "          [-7.7537e-02, -1.5008e-02, -6.9144e-03],\n",
            "          [-5.6985e-02,  6.3568e-02, -2.2160e-02]],\n",
            "\n",
            "         [[ 1.8844e-02,  2.7663e-02, -8.8797e-02],\n",
            "          [ 6.0760e-02,  2.2758e-02,  4.9864e-02],\n",
            "          [ 1.9451e-01, -2.4317e-02, -1.0259e-01]],\n",
            "\n",
            "         [[-1.1675e-01, -2.0302e-02,  5.9670e-02],\n",
            "          [-9.6443e-02, -3.8228e-02, -2.9075e-03],\n",
            "          [ 7.7030e-02, -9.9355e-02, -9.1000e-03]],\n",
            "\n",
            "         [[-2.3431e-02, -7.9596e-02, -3.4219e-02],\n",
            "          [ 1.0529e-01, -8.4921e-02, -1.0248e-01],\n",
            "          [ 1.1286e-01,  1.1630e-02,  5.5233e-02]],\n",
            "\n",
            "         [[ 6.0698e-02, -7.8763e-02, -2.8394e-02],\n",
            "          [ 8.5356e-03, -5.8835e-02,  1.0577e-01],\n",
            "          [-1.3746e-01,  6.6917e-02,  6.5018e-02]]],\n",
            "\n",
            "\n",
            "        [[[-7.3592e-02,  1.2492e-01, -1.2587e-01],\n",
            "          [ 1.7301e-01,  1.6212e-01, -1.2835e-01],\n",
            "          [ 1.3578e-01,  5.9547e-02, -1.2696e-03]],\n",
            "\n",
            "         [[ 1.2351e-01,  1.0427e-02,  1.1149e-01],\n",
            "          [ 1.7171e-01,  1.7263e-01, -7.5157e-02],\n",
            "          [ 7.5126e-02, -2.6528e-03, -6.4708e-02]],\n",
            "\n",
            "         [[ 2.2117e-01,  1.4888e-01, -1.2730e-01],\n",
            "          [ 1.2541e-01, -1.6933e-01, -1.2399e-01],\n",
            "          [ 1.1025e-01, -1.0572e-01, -1.3042e-01]],\n",
            "\n",
            "         [[ 1.0338e-01,  2.8440e-02, -3.3633e-03],\n",
            "          [-6.5875e-02,  2.3091e-02, -6.3884e-02],\n",
            "          [ 1.4349e-01, -3.2813e-02, -8.4144e-02]],\n",
            "\n",
            "         [[ 1.8868e-01, -3.5833e-02,  1.6323e-01],\n",
            "          [ 1.1582e-01, -5.8910e-02, -1.1093e-01],\n",
            "          [ 5.8733e-02,  9.6153e-02, -1.1594e-01]],\n",
            "\n",
            "         [[ 1.0259e-01,  1.1977e-01,  2.0421e-01],\n",
            "          [ 8.8842e-02,  1.0496e-01,  6.5246e-02],\n",
            "          [ 6.2334e-02,  4.8229e-02,  6.4970e-02]]],\n",
            "\n",
            "\n",
            "        [[[ 6.9267e-02, -1.0410e-01, -1.0667e-01],\n",
            "          [-4.1173e-02,  1.5306e-01,  8.5910e-02],\n",
            "          [-4.4547e-02,  1.2030e-01,  1.0130e-01]],\n",
            "\n",
            "         [[-1.0002e-01, -1.8997e-02, -1.1129e-01],\n",
            "          [-8.9830e-02,  1.2859e-01,  1.2979e-01],\n",
            "          [ 6.6573e-02,  1.2235e-01, -1.0062e-01]],\n",
            "\n",
            "         [[ 1.2484e-01,  3.4113e-04, -1.1691e-01],\n",
            "          [ 1.5067e-02,  6.3599e-02, -1.6725e-01],\n",
            "          [ 5.0706e-02,  6.9951e-02, -7.3550e-02]],\n",
            "\n",
            "         [[ 7.2844e-02,  4.3176e-02,  2.7901e-02],\n",
            "          [-1.1043e-01,  4.5661e-02, -1.1847e-01],\n",
            "          [ 1.1677e-02,  6.6980e-02, -7.4302e-02]],\n",
            "\n",
            "         [[ 3.2085e-02,  1.4578e-01,  1.1198e-01],\n",
            "          [ 1.0351e-01, -6.5902e-03, -1.2753e-02],\n",
            "          [-8.1635e-02,  1.5937e-01,  1.3450e-01]],\n",
            "\n",
            "         [[ 7.7820e-02, -5.4371e-02, -3.3641e-02],\n",
            "          [-2.4992e-02, -1.1773e-01, -8.7859e-02],\n",
            "          [ 4.9303e-02,  5.7538e-02,  1.0089e-01]]],\n",
            "\n",
            "\n",
            "        [[[-5.8697e-02, -6.5063e-02, -3.4891e-02],\n",
            "          [ 8.7518e-02, -1.3024e-02,  1.3868e-01],\n",
            "          [ 7.7952e-02,  7.6862e-02, -4.6863e-03]],\n",
            "\n",
            "         [[ 4.2020e-02, -6.7781e-02, -3.8967e-02],\n",
            "          [-1.0536e-01,  7.5925e-04,  1.9179e-02],\n",
            "          [ 9.4580e-02,  2.8640e-02,  2.2980e-02]],\n",
            "\n",
            "         [[ 1.5876e-01,  4.0701e-02,  1.1804e-01],\n",
            "          [-1.7342e-02, -1.3357e-01,  2.3635e-01],\n",
            "          [-2.1129e-01, -1.4372e-01,  3.2967e-01]],\n",
            "\n",
            "         [[ 1.5101e-01,  9.8753e-02,  1.8347e-02],\n",
            "          [ 4.5978e-02,  1.1659e-01,  8.7243e-02],\n",
            "          [-4.5611e-02,  4.6028e-02,  6.4778e-02]],\n",
            "\n",
            "         [[ 1.2245e-01,  7.9815e-02,  1.3638e-01],\n",
            "          [ 1.1544e-01,  8.5874e-02,  9.0513e-03],\n",
            "          [-7.3039e-02,  2.8083e-02, -1.2701e-03]],\n",
            "\n",
            "         [[-9.4505e-02,  1.5811e-01,  1.3324e-01],\n",
            "          [ 1.6008e-01,  1.3747e-01, -7.5409e-02],\n",
            "          [ 1.0887e-01,  1.4558e-01,  1.4097e-01]]],\n",
            "\n",
            "\n",
            "        [[[ 1.8442e-02, -1.0569e-01, -8.5881e-02],\n",
            "          [ 9.9404e-02,  4.8736e-02,  8.0349e-02],\n",
            "          [-1.1048e-01,  6.2065e-02,  8.9532e-02]],\n",
            "\n",
            "         [[ 1.3004e-01,  7.6116e-02, -1.6302e-01],\n",
            "          [-2.5262e-02,  8.9059e-02, -8.9905e-02],\n",
            "          [-1.0256e-01, -1.3897e-01, -3.8677e-02]],\n",
            "\n",
            "         [[ 1.2383e-01,  3.2585e-01,  3.2748e-01],\n",
            "          [ 7.3580e-02,  1.1808e-01,  1.7401e-01],\n",
            "          [ 1.3917e-01,  3.1559e-01,  1.4186e-01]],\n",
            "\n",
            "         [[ 6.1444e-02, -1.3429e-02,  6.1198e-02],\n",
            "          [-2.2819e-02,  3.8934e-02,  1.3002e-02],\n",
            "          [-3.3396e-02, -5.7983e-02, -9.5475e-02]],\n",
            "\n",
            "         [[-2.5385e-03, -5.0057e-02, -7.6148e-02],\n",
            "          [-1.3367e-01, -3.3145e-02,  4.8757e-02],\n",
            "          [-1.0674e-01, -4.7089e-02, -1.2203e-01]],\n",
            "\n",
            "         [[ 5.0506e-02,  8.7835e-02, -1.5765e-01],\n",
            "          [-1.3497e-03, -1.5535e-01, -1.5751e-01],\n",
            "          [-1.3833e-01, -6.2566e-02, -6.9986e-02]]],\n",
            "\n",
            "\n",
            "        [[[ 3.8797e-02,  1.1689e-02,  5.5578e-02],\n",
            "          [-8.9425e-04, -8.5989e-02, -5.3283e-03],\n",
            "          [ 1.3273e-01,  6.3632e-02, -7.4874e-02]],\n",
            "\n",
            "         [[ 3.6048e-02,  3.8362e-02,  9.2927e-02],\n",
            "          [-6.8043e-02, -5.3807e-02,  7.4934e-02],\n",
            "          [-7.7947e-03,  1.0577e-01,  1.8384e-02]],\n",
            "\n",
            "         [[-1.4351e-02, -7.4164e-02, -1.2542e-01],\n",
            "          [ 2.8721e-01,  1.3053e-01, -2.4197e-02],\n",
            "          [ 2.5961e-01,  3.0233e-02,  1.1860e-01]],\n",
            "\n",
            "         [[-4.6645e-02,  6.3745e-02, -4.9613e-02],\n",
            "          [ 1.0426e-01, -6.9079e-02, -5.1336e-02],\n",
            "          [ 1.4984e-01,  9.0570e-02,  1.1910e-02]],\n",
            "\n",
            "         [[ 7.7031e-02, -1.1091e-01, -1.1238e-01],\n",
            "          [-5.5386e-02, -1.0439e-01, -1.2494e-01],\n",
            "          [-4.0089e-02, -9.7712e-02, -8.7216e-02]],\n",
            "\n",
            "         [[ 5.7555e-02,  9.2508e-02,  1.7337e-01],\n",
            "          [ 8.7712e-02, -6.6093e-04,  2.8348e-02],\n",
            "          [-1.3991e-01, -1.1031e-01,  4.9245e-02]]]], requires_grad=True)), ('conv2.bias', Parameter containing:\n",
            "tensor([-0.0722,  0.0733,  0.1108, -0.0392,  0.1659,  0.0541,  0.0541,  0.0761,\n",
            "         0.1664,  0.0326, -0.0046,  0.1244, -0.0588, -0.0986,  0.0152,  0.0229],\n",
            "       requires_grad=True)), ('fc1.weight', Parameter containing:\n",
            "tensor([[ 0.0238,  0.0390,  0.0053,  ...,  0.0397,  0.0264,  0.0293],\n",
            "        [-0.0043, -0.0003, -0.0507,  ...,  0.0014, -0.0032, -0.0271],\n",
            "        [ 0.0298,  0.0066, -0.0327,  ...,  0.0454, -0.0045, -0.0447],\n",
            "        ...,\n",
            "        [-0.0624,  0.0332,  0.0084,  ...,  0.0345, -0.0421,  0.0459],\n",
            "        [ 0.0499, -0.0115,  0.0523,  ...,  0.0443,  0.0055,  0.0021],\n",
            "        [-0.0272,  0.0520, -0.0328,  ...,  0.0318,  0.0003, -0.0088]],\n",
            "       requires_grad=True)), ('fc1.bias', Parameter containing:\n",
            "tensor([ 0.0284, -0.0397, -0.0262, -0.0118, -0.0309, -0.0399,  0.0443, -0.0398,\n",
            "        -0.0500,  0.0030,  0.0307, -0.0545,  0.0106,  0.0388, -0.0199,  0.0483,\n",
            "         0.0419,  0.0173,  0.0467, -0.0296, -0.0021, -0.0085, -0.0399,  0.0189,\n",
            "         0.0188,  0.0009,  0.0265,  0.0241,  0.0362, -0.0240, -0.0149,  0.0396,\n",
            "        -0.0272,  0.0236,  0.0265,  0.0340, -0.0133, -0.0316, -0.0318, -0.0270,\n",
            "        -0.0392, -0.0098, -0.0033, -0.0467,  0.0025,  0.0263,  0.0331, -0.0085,\n",
            "        -0.0073,  0.0131, -0.0154, -0.0266,  0.0542,  0.0002,  0.0122, -0.0374,\n",
            "        -0.0065, -0.0294, -0.0266, -0.0481,  0.0031,  0.0454,  0.0148, -0.0353,\n",
            "         0.0079,  0.0397,  0.0323,  0.0382,  0.0067,  0.0011, -0.0186, -0.0110,\n",
            "         0.0106, -0.0225, -0.0010,  0.0160, -0.0345,  0.0481, -0.0548, -0.0209,\n",
            "         0.0531,  0.0154,  0.0360,  0.0275,  0.0092, -0.0190, -0.0231, -0.0235,\n",
            "        -0.0093,  0.0142,  0.0513,  0.0470, -0.0168,  0.0108, -0.0017,  0.0073,\n",
            "         0.0574,  0.0441, -0.0513,  0.0628, -0.0167, -0.0199, -0.0007,  0.0428,\n",
            "        -0.0143,  0.0242,  0.0565,  0.0125, -0.0495,  0.0355, -0.0062, -0.0220,\n",
            "        -0.0391, -0.0022,  0.0462, -0.0062,  0.0396,  0.0318,  0.0458,  0.0577],\n",
            "       requires_grad=True)), ('fc2.weight', Parameter containing:\n",
            "tensor([[-0.0067,  0.0246, -0.0383,  ..., -0.0139, -0.0558,  0.0460],\n",
            "        [ 0.0772,  0.0320,  0.0813,  ..., -0.0290, -0.1083,  0.0518],\n",
            "        [-0.0683,  0.0791, -0.0359,  ..., -0.0919, -0.1085,  0.0747],\n",
            "        ...,\n",
            "        [ 0.0484,  0.0328,  0.0543,  ...,  0.0048,  0.0226,  0.0471],\n",
            "        [ 0.0458,  0.0749, -0.0579,  ...,  0.0048,  0.0113, -0.0037],\n",
            "        [ 0.0661, -0.0765,  0.0588,  ..., -0.1052, -0.0371,  0.0743]],\n",
            "       requires_grad=True)), ('fc2.bias', Parameter containing:\n",
            "tensor([ 0.0462,  0.0470,  0.0408, -0.0094,  0.0800, -0.0421,  0.0125,  0.0858,\n",
            "        -0.0330,  0.0824, -0.0263,  0.0204,  0.0712,  0.0285,  0.0197, -0.0862,\n",
            "         0.0654, -0.0893,  0.0554, -0.0299,  0.0071,  0.0031, -0.0836, -0.0192,\n",
            "        -0.0203,  0.0896, -0.0356, -0.0586,  0.0400,  0.0681,  0.0062, -0.0498,\n",
            "        -0.0709,  0.0735,  0.0077, -0.0012,  0.0973, -0.0131,  0.0306,  0.0637,\n",
            "         0.0516,  0.0647,  0.0092,  0.0248, -0.0165, -0.0861,  0.0444, -0.0724,\n",
            "         0.0185,  0.0947, -0.0403,  0.0798,  0.0352, -0.0343,  0.0643,  0.0074,\n",
            "        -0.0346, -0.0549,  0.0779, -0.0366, -0.0937,  0.0157,  0.0365, -0.0277,\n",
            "        -0.0437, -0.0728,  0.0340, -0.0757, -0.0758, -0.0489,  0.1169,  0.0223,\n",
            "        -0.0335, -0.0579, -0.0570,  0.0504,  0.1431, -0.0067,  0.1062, -0.0372,\n",
            "         0.0319,  0.0621, -0.0741, -0.0496], requires_grad=True)), ('fc3.weight', Parameter containing:\n",
            "tensor([[-0.0047, -0.0558, -0.0689,  0.0598,  0.0483,  0.1550, -0.1154,  0.0200,\n",
            "         -0.0338,  0.0973, -0.0861, -0.0682, -0.0283, -0.2183,  0.1024,  0.0206,\n",
            "          0.0753, -0.0262, -0.0140,  0.0286,  0.0795, -0.0378, -0.0997,  0.0601,\n",
            "         -0.0237, -0.0769,  0.1900,  0.0537,  0.0361, -0.0309,  0.1164, -0.1249,\n",
            "          0.0146, -0.1026, -0.0537, -0.0126, -0.0036, -0.0004, -0.0288,  0.0353,\n",
            "         -0.0049,  0.1330,  0.0585,  0.0150, -0.0499, -0.1789, -0.0950, -0.1064,\n",
            "         -0.1311, -0.0102,  0.1654,  0.2233,  0.0060,  0.0844,  0.1065,  0.1683,\n",
            "          0.0582,  0.2011, -0.2123,  0.0582,  0.0600, -0.0385, -0.1136,  0.0210,\n",
            "         -0.1415,  0.0458, -0.0268,  0.0590,  0.1313, -0.0363, -0.1105,  0.0927,\n",
            "          0.0966, -0.0583,  0.0804, -0.0774,  0.1992, -0.0191, -0.0227,  0.0459,\n",
            "         -0.0286,  0.0044,  0.0033,  0.0179],\n",
            "        [-0.1052,  0.0016,  0.0605, -0.0902,  0.2924,  0.0730, -0.1509, -0.3025,\n",
            "          0.0633,  0.0651, -0.0180,  0.0634, -0.0243,  0.0046,  0.0545, -0.1072,\n",
            "          0.0382,  0.0986, -0.0618, -0.0126, -0.1102, -0.0362, -0.0564,  0.0693,\n",
            "          0.0114,  0.3246,  0.1806,  0.1064, -0.0604,  0.0604, -0.1404,  0.0485,\n",
            "         -0.0214, -0.0040, -0.1270, -0.1268,  0.0307, -0.0267,  0.1203,  0.0447,\n",
            "          0.1645, -0.1162, -0.0048,  0.1620, -0.0985,  0.0084, -0.1182,  0.1179,\n",
            "         -0.1819, -0.1302, -0.0406,  0.0659, -0.0607, -0.0515,  0.0913, -0.0310,\n",
            "          0.1144, -0.1212, -0.0348, -0.0922,  0.1166, -0.2134,  0.1376, -0.0096,\n",
            "          0.1766, -0.0194, -0.1047, -0.0193, -0.1367, -0.0605,  0.0643,  0.0475,\n",
            "          0.0237, -0.1269, -0.1242,  0.1353, -0.1281,  0.0007, -0.2044, -0.1237,\n",
            "          0.1133,  0.1564, -0.1311, -0.1209],\n",
            "        [-0.1469,  0.0014, -0.0766,  0.0912, -0.0665,  0.0192, -0.1527,  0.2161,\n",
            "         -0.0201,  0.1397, -0.0604, -0.0780, -0.0875,  0.0404,  0.0535,  0.0020,\n",
            "         -0.1154, -0.0514,  0.1493, -0.1049, -0.0369,  0.1084,  0.0275,  0.0316,\n",
            "         -0.0217,  0.0844, -0.0264, -0.0512,  0.0231,  0.0085,  0.0990, -0.0068,\n",
            "         -0.0065, -0.0576, -0.3066,  0.1401, -0.0095, -0.0357, -0.1553,  0.1467,\n",
            "          0.0361,  0.1388,  0.0027,  0.0534,  0.0822, -0.1284, -0.0817, -0.0019,\n",
            "          0.1232, -0.0835,  0.1796,  0.0405,  0.0387, -0.0025, -0.0733, -0.2770,\n",
            "         -0.1495, -0.0316,  0.1731,  0.0257, -0.0107,  0.1836,  0.0381, -0.0808,\n",
            "         -0.0505,  0.0217, -0.0174, -0.0056, -0.0782,  0.0108,  0.0587, -0.0995,\n",
            "         -0.2517,  0.0819, -0.0260,  0.0671,  0.1872,  0.0804,  0.0519, -0.1775,\n",
            "         -0.0650, -0.0533,  0.1223,  0.1415],\n",
            "        [-0.0989,  0.1132, -0.0602,  0.0795,  0.1162, -0.0365,  0.1186, -0.1298,\n",
            "         -0.0365, -0.0919,  0.0431,  0.0663,  0.0900,  0.1620, -0.1393,  0.1115,\n",
            "          0.1696,  0.0532,  0.1861,  0.1019, -0.0738, -0.0263,  0.1085, -0.1382,\n",
            "          0.0879,  0.0341, -0.1595,  0.1040,  0.0191,  0.0148, -0.0112,  0.1242,\n",
            "         -0.0529, -0.0454, -0.2755, -0.0374,  0.0014,  0.0959, -0.0721, -0.1083,\n",
            "          0.1794,  0.1102,  0.1685,  0.0306,  0.0946, -0.0677,  0.0344,  0.0850,\n",
            "          0.2066, -0.1794, -0.2292,  0.1208,  0.0592, -0.0014,  0.1335, -0.0307,\n",
            "         -0.0836,  0.0926, -0.1213,  0.1551,  0.1407,  0.0551, -0.1466,  0.0996,\n",
            "         -0.0167, -0.0179,  0.0890, -0.0365, -0.1801,  0.0844,  0.0163, -0.0032,\n",
            "          0.0531,  0.0701, -0.0259, -0.0260,  0.0485,  0.0659,  0.0860, -0.0596,\n",
            "         -0.0020,  0.0770,  0.2158, -0.0275],\n",
            "        [-0.1075, -0.1163, -0.1330, -0.0774, -0.0604, -0.1125, -0.0230,  0.1800,\n",
            "          0.0213,  0.2997,  0.0195, -0.0891, -0.0603, -0.0229,  0.1100,  0.0117,\n",
            "          0.1905,  0.0860, -0.1237,  0.0322,  0.0752,  0.0123,  0.0629, -0.0023,\n",
            "          0.1035, -0.1073,  0.0342, -0.1033, -0.1789, -0.0073, -0.1621,  0.0799,\n",
            "          0.1045, -0.1130,  0.0332, -0.0549,  0.1598, -0.0500,  0.1164,  0.0707,\n",
            "          0.1310, -0.0295,  0.0358, -0.1364,  0.0537,  0.1528, -0.1155,  0.1309,\n",
            "          0.1284, -0.0541, -0.1696,  0.0362, -0.0775,  0.0857,  0.0559, -0.0573,\n",
            "         -0.1286, -0.0727,  0.1065, -0.0220, -0.0886,  0.0342,  0.1152, -0.0677,\n",
            "         -0.1664, -0.0822, -0.0406, -0.0199,  0.0685, -0.0735,  0.0397, -0.0936,\n",
            "          0.0347,  0.0560, -0.0902,  0.0184,  0.0579, -0.1058,  0.0623, -0.0662,\n",
            "         -0.0274,  0.1431, -0.0778, -0.1277],\n",
            "        [ 0.2094, -0.0060, -0.0493, -0.0757,  0.0906, -0.0778,  0.2097, -0.1421,\n",
            "         -0.1374, -0.2571, -0.0733,  0.0092,  0.0386, -0.0754, -0.0034, -0.1725,\n",
            "         -0.2175,  0.0297,  0.0301, -0.0858,  0.0514,  0.0503, -0.0556,  0.1623,\n",
            "         -0.1039, -0.1514, -0.0360, -0.0062,  0.1174, -0.0270, -0.1374,  0.0738,\n",
            "          0.0110,  0.1148,  0.1924,  0.1692,  0.1514, -0.0924, -0.1096, -0.0832,\n",
            "         -0.0558, -0.1721,  0.1295,  0.2086,  0.0235, -0.0563,  0.0584, -0.0662,\n",
            "         -0.0723,  0.0437,  0.1881, -0.2298,  0.0611, -0.0636, -0.0755,  0.1373,\n",
            "          0.0933,  0.0502,  0.1124, -0.1780, -0.0018,  0.1376, -0.0707,  0.0402,\n",
            "          0.0233, -0.0758, -0.0902,  0.1787, -0.0006,  0.0137,  0.0010, -0.0477,\n",
            "          0.0821,  0.0226,  0.0812,  0.0741, -0.2307, -0.1062, -0.1844,  0.0746,\n",
            "         -0.0731, -0.1161,  0.1374, -0.0968],\n",
            "        [-0.2140, -0.1793, -0.2032, -0.0229,  0.0545, -0.0428, -0.0834,  0.1268,\n",
            "         -0.0120,  0.1698,  0.0252,  0.0737, -0.0735, -0.0475,  0.1753,  0.0464,\n",
            "         -0.1285, -0.0151, -0.0120, -0.0890, -0.0136, -0.0228,  0.0280,  0.0070,\n",
            "         -0.0193, -0.0085, -0.1278,  0.0713, -0.0373, -0.0789,  0.0386, -0.1234,\n",
            "         -0.0594,  0.0119,  0.1492,  0.0652, -0.0387, -0.0912, -0.0186,  0.1432,\n",
            "          0.1537, -0.0239,  0.0601, -0.0379, -0.0838, -0.0165,  0.0970, -0.1252,\n",
            "         -0.0704,  0.1769, -0.1928,  0.0807, -0.1124, -0.0173,  0.1816,  0.2089,\n",
            "         -0.0270, -0.0404, -0.0026,  0.1422, -0.1165, -0.0041, -0.1284,  0.0373,\n",
            "         -0.0047, -0.0563, -0.0115, -0.1858,  0.0411, -0.0332, -0.0945,  0.0725,\n",
            "          0.0557, -0.0292,  0.0489, -0.0785,  0.3332,  0.0021,  0.0594, -0.0351,\n",
            "          0.0916, -0.1693, -0.0158, -0.0916],\n",
            "        [ 0.1834,  0.0871,  0.2570, -0.0241, -0.1235, -0.0242, -0.0518,  0.0450,\n",
            "          0.0873, -0.1642,  0.0076, -0.0407,  0.3018, -0.0487, -0.1189,  0.0679,\n",
            "          0.1690,  0.0062, -0.0458, -0.0711, -0.0325,  0.0410, -0.0363,  0.0675,\n",
            "         -0.0271, -0.1080,  0.0854, -0.0042, -0.1567, -0.0226, -0.0653,  0.0696,\n",
            "          0.1069, -0.0085,  0.1441, -0.2748, -0.2744, -0.0618, -0.1481, -0.0768,\n",
            "         -0.1934, -0.1393, -0.0708,  0.0729, -0.1060,  0.0923,  0.0054, -0.0111,\n",
            "         -0.1536,  0.1765, -0.0286,  0.0080,  0.0348, -0.0527, -0.0687,  0.1241,\n",
            "          0.1247, -0.1231,  0.1290, -0.1330, -0.0779, -0.0271, -0.1791, -0.0637,\n",
            "          0.1489,  0.0165,  0.0718,  0.1422,  0.1685, -0.0201, -0.0555, -0.0023,\n",
            "         -0.1627, -0.1298, -0.0658,  0.1823, -0.2330,  0.0482, -0.0955,  0.0694,\n",
            "         -0.0315,  0.1228,  0.0526,  0.0208],\n",
            "        [ 0.1260,  0.0079, -0.0642,  0.0733,  0.0236,  0.1132, -0.0552,  0.1705,\n",
            "         -0.0863,  0.0402,  0.0136,  0.0061, -0.0483, -0.2048, -0.0246, -0.0274,\n",
            "          0.0644,  0.0295, -0.0243,  0.0690,  0.0212, -0.0030,  0.0835, -0.0175,\n",
            "          0.0498, -0.1882, -0.0051,  0.0230,  0.0694,  0.0812,  0.1342,  0.0321,\n",
            "          0.0535, -0.0198,  0.1444,  0.0926,  0.1524, -0.0934, -0.0092,  0.0605,\n",
            "         -0.0354,  0.1380, -0.0407,  0.0926, -0.0394,  0.0268,  0.0351, -0.1341,\n",
            "         -0.1109, -0.0905, -0.0811,  0.0479, -0.1018, -0.0360, -0.0889, -0.1165,\n",
            "          0.2246,  0.0502, -0.1371, -0.0367, -0.0572,  0.0360,  0.1365,  0.0500,\n",
            "          0.1616,  0.0554,  0.0608,  0.1477,  0.0449,  0.0549,  0.2181,  0.0464,\n",
            "          0.1673, -0.1244, -0.0685, -0.1226,  0.0009,  0.0280,  0.1902,  0.0994,\n",
            "          0.0558, -0.1251, -0.1163, -0.0406],\n",
            "        [ 0.0807,  0.1249,  0.1813, -0.0043, -0.1340,  0.0699, -0.0338, -0.0939,\n",
            "         -0.0483, -0.1074,  0.0932, -0.0124, -0.1249,  0.2215, -0.1510,  0.0393,\n",
            "         -0.1465,  0.0593,  0.1253, -0.1005, -0.1088, -0.0546, -0.0767, -0.0901,\n",
            "         -0.0883, -0.1310, -0.0433, -0.0262, -0.1797,  0.0195, -0.1148, -0.0455,\n",
            "          0.0368,  0.1454,  0.0901,  0.0899, -0.1957, -0.0795,  0.1227,  0.2029,\n",
            "         -0.1668, -0.1973, -0.1236, -0.0983, -0.1067, -0.0975, -0.1297,  0.0023,\n",
            "          0.0859,  0.2140,  0.0903,  0.0173,  0.1247, -0.1085, -0.1924, -0.0732,\n",
            "          0.0873,  0.0893,  0.1637,  0.0722, -0.1020, -0.1537, -0.0788, -0.0872,\n",
            "          0.1910,  0.0221,  0.0818,  0.1953,  0.0494, -0.0345,  0.0440, -0.0741,\n",
            "         -0.0862,  0.0355, -0.0560, -0.0718, -0.0535,  0.0627,  0.0988,  0.0681,\n",
            "         -0.1554, -0.0540, -0.0651, -0.0601]], requires_grad=True)), ('fc3.bias', Parameter containing:\n",
            "tensor([-0.0280,  0.0025,  0.1022, -0.0728, -0.0454, -0.0630, -0.0384, -0.0825,\n",
            "         0.1018, -0.0204], requires_grad=True))]\n"
          ]
        }
      ]
    },
    {
      "cell_type": "code",
      "source": [
        "def imshow(image):\n",
        "  image = image / 2 + 0.5\n",
        "  npimg = image.numpy()\n",
        "  plt.imshow(np.transpose(npimg, (1, 2, 0)))\n",
        "  plt.show()"
      ],
      "metadata": {
        "id": "TgUF0H4QkjE3"
      },
      "execution_count": null,
      "outputs": []
    },
    {
      "cell_type": "code",
      "source": [
        "import torchvision\n",
        "\n",
        "dataiter = iter(test_loader)\n",
        "images, labels = next(iter(train_loader))\n",
        "\n",
        "imshow(torchvision.utils.make_grid(images[:6]))"
      ],
      "metadata": {
        "colab": {
          "base_uri": "https://localhost:8080/",
          "height": 152
        },
        "id": "xe29OnoIlYTw",
        "outputId": "43538218-a632-4cb4-cef7-0eebcf55999d"
      },
      "execution_count": null,
      "outputs": [
        {
          "output_type": "display_data",
          "data": {
            "text/plain": [
              "<Figure size 640x480 with 1 Axes>"
            ],
            "image/png": "[encoded data removed]"
          },
          "metadata": {}
        }
      ]
    },
    {
      "cell_type": "code",
      "source": [
        "outputs = net(images)\n",
        "_, predicted = torch.max(outputs, 1)\n",
        "print(predicted)"
      ],
      "metadata": {
        "colab": {
          "base_uri": "https://localhost:8080/"
        },
        "id": "r8DBCE8llhg3",
        "outputId": "4a3173c8-95b1-45e4-b498-2df054608ffe"
      },
      "execution_count": null,
      "outputs": [
        {
          "output_type": "stream",
          "name": "stdout",
          "text": [
            "tensor([4, 7, 2, 1, 9, 4, 1, 9, 5, 5, 0, 5, 0, 2, 5, 1, 7, 9, 0, 2, 1, 3, 5, 0,\n",
            "        9, 3, 8, 8, 3, 5, 9, 7, 6, 0, 7, 1, 0, 1, 9, 0, 8, 6, 9, 9, 6, 1, 0, 8,\n",
            "        8, 3, 7, 5, 5, 7, 0, 7, 4, 6, 4, 5, 7, 7, 0, 9, 3, 0, 0, 8, 3, 1, 4, 3,\n",
            "        3, 1, 2, 6, 5, 7, 3, 7, 7, 9, 0, 7, 3, 3, 8, 5, 7, 8, 4, 2, 1, 7, 0, 9,\n",
            "        1, 1, 4, 8, 5, 7, 9, 3, 0, 8, 0, 1, 1, 5, 0, 0, 3, 1, 6, 0, 9, 3, 5, 7,\n",
            "        2, 9, 8, 0, 7, 0, 0, 3])\n"
          ]
        }
      ]
    },
    {
      "cell_type": "code",
      "source": [
        "print(''.join('{}, '.format(labels_map[int(predicted[j].numpy())]) for j in range(6)))"
      ],
      "metadata": {
        "colab": {
          "base_uri": "https://localhost:8080/"
        },
        "id": "X7tBtf9NmCRW",
        "outputId": "2353b206-68db-46ce-f78d-7d90ead7a67f"
      },
      "execution_count": null,
      "outputs": [
        {
          "output_type": "stream",
          "name": "stdout",
          "text": [
            "Coat, Sneaker, Pullover, Trouser, Ankle boot, Coat, \n"
          ]
        }
      ]
    },
    {
      "cell_type": "code",
      "source": [
        "correct = 0\n",
        "total = 0\n",
        "\n",
        "with torch.no_grad():\n",
        "  for data in test_loader:\n",
        "    images, labels = data\n",
        "    outputs = net(images)\n",
        "    _, predicted = torch.max(outputs.data, 1)\n",
        "    total += labels.size(0)\n",
        "    correct += (predicted == labels).sum().item()\n",
        "print(100*correct / total)"
      ],
      "metadata": {
        "colab": {
          "base_uri": "https://localhost:8080/"
        },
        "id": "5Zb-8wLym1zs",
        "outputId": "3e0c74e7-4d67-4b12-a97c-2eccc9b6137e"
      },
      "execution_count": null,
      "outputs": [
        {
          "output_type": "stream",
          "name": "stdout",
          "text": [
            "81.94\n"
          ]
        }
      ]
    },
    {
      "cell_type": "code",
      "source": [],
      "metadata": {
        "id": "7KfszwK6oQNm"
      },
      "execution_count": null,
      "outputs": []
    }
  ]
}